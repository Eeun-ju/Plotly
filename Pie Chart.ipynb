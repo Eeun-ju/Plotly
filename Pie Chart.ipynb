{
 "cells": [
  {
   "cell_type": "code",
   "execution_count": 4,
   "metadata": {},
   "outputs": [],
   "source": [
    "import plotly.express as px\n",
    "from plotly.subplots import make_subplots\n",
    "import plotly.graph_objs as go\n",
    "import pandas as pd"
   ]
  },
  {
   "cell_type": "code",
   "execution_count": 5,
   "metadata": {},
   "outputs": [],
   "source": [
    "data = pd.read_csv('bestsellers with categories.csv')"
   ]
  },
  {
   "cell_type": "code",
   "execution_count": 6,
   "metadata": {},
   "outputs": [
    {
     "data": {
      "text/html": [
       "<div>\n",
       "<style scoped>\n",
       "    .dataframe tbody tr th:only-of-type {\n",
       "        vertical-align: middle;\n",
       "    }\n",
       "\n",
       "    .dataframe tbody tr th {\n",
       "        vertical-align: top;\n",
       "    }\n",
       "\n",
       "    .dataframe thead th {\n",
       "        text-align: right;\n",
       "    }\n",
       "</style>\n",
       "<table border=\"1\" class=\"dataframe\">\n",
       "  <thead>\n",
       "    <tr style=\"text-align: right;\">\n",
       "      <th></th>\n",
       "      <th>Name</th>\n",
       "      <th>Author</th>\n",
       "      <th>User Rating</th>\n",
       "      <th>Reviews</th>\n",
       "      <th>Price</th>\n",
       "      <th>Year</th>\n",
       "      <th>Genre</th>\n",
       "    </tr>\n",
       "  </thead>\n",
       "  <tbody>\n",
       "    <tr>\n",
       "      <th>0</th>\n",
       "      <td>10-Day Green Smoothie Cleanse</td>\n",
       "      <td>JJ Smith</td>\n",
       "      <td>4.7</td>\n",
       "      <td>17350</td>\n",
       "      <td>8</td>\n",
       "      <td>2016</td>\n",
       "      <td>Non Fiction</td>\n",
       "    </tr>\n",
       "    <tr>\n",
       "      <th>1</th>\n",
       "      <td>11/22/63: A Novel</td>\n",
       "      <td>Stephen King</td>\n",
       "      <td>4.6</td>\n",
       "      <td>2052</td>\n",
       "      <td>22</td>\n",
       "      <td>2011</td>\n",
       "      <td>Fiction</td>\n",
       "    </tr>\n",
       "    <tr>\n",
       "      <th>2</th>\n",
       "      <td>12 Rules for Life: An Antidote to Chaos</td>\n",
       "      <td>Jordan B. Peterson</td>\n",
       "      <td>4.7</td>\n",
       "      <td>18979</td>\n",
       "      <td>15</td>\n",
       "      <td>2018</td>\n",
       "      <td>Non Fiction</td>\n",
       "    </tr>\n",
       "    <tr>\n",
       "      <th>3</th>\n",
       "      <td>1984 (Signet Classics)</td>\n",
       "      <td>George Orwell</td>\n",
       "      <td>4.7</td>\n",
       "      <td>21424</td>\n",
       "      <td>6</td>\n",
       "      <td>2017</td>\n",
       "      <td>Fiction</td>\n",
       "    </tr>\n",
       "    <tr>\n",
       "      <th>4</th>\n",
       "      <td>5,000 Awesome Facts (About Everything!) (Natio...</td>\n",
       "      <td>National Geographic Kids</td>\n",
       "      <td>4.8</td>\n",
       "      <td>7665</td>\n",
       "      <td>12</td>\n",
       "      <td>2019</td>\n",
       "      <td>Non Fiction</td>\n",
       "    </tr>\n",
       "    <tr>\n",
       "      <th>...</th>\n",
       "      <td>...</td>\n",
       "      <td>...</td>\n",
       "      <td>...</td>\n",
       "      <td>...</td>\n",
       "      <td>...</td>\n",
       "      <td>...</td>\n",
       "      <td>...</td>\n",
       "    </tr>\n",
       "    <tr>\n",
       "      <th>545</th>\n",
       "      <td>Wrecking Ball (Diary of a Wimpy Kid Book 14)</td>\n",
       "      <td>Jeff Kinney</td>\n",
       "      <td>4.9</td>\n",
       "      <td>9413</td>\n",
       "      <td>8</td>\n",
       "      <td>2019</td>\n",
       "      <td>Fiction</td>\n",
       "    </tr>\n",
       "    <tr>\n",
       "      <th>546</th>\n",
       "      <td>You Are a Badass: How to Stop Doubting Your Gr...</td>\n",
       "      <td>Jen Sincero</td>\n",
       "      <td>4.7</td>\n",
       "      <td>14331</td>\n",
       "      <td>8</td>\n",
       "      <td>2016</td>\n",
       "      <td>Non Fiction</td>\n",
       "    </tr>\n",
       "    <tr>\n",
       "      <th>547</th>\n",
       "      <td>You Are a Badass: How to Stop Doubting Your Gr...</td>\n",
       "      <td>Jen Sincero</td>\n",
       "      <td>4.7</td>\n",
       "      <td>14331</td>\n",
       "      <td>8</td>\n",
       "      <td>2017</td>\n",
       "      <td>Non Fiction</td>\n",
       "    </tr>\n",
       "    <tr>\n",
       "      <th>548</th>\n",
       "      <td>You Are a Badass: How to Stop Doubting Your Gr...</td>\n",
       "      <td>Jen Sincero</td>\n",
       "      <td>4.7</td>\n",
       "      <td>14331</td>\n",
       "      <td>8</td>\n",
       "      <td>2018</td>\n",
       "      <td>Non Fiction</td>\n",
       "    </tr>\n",
       "    <tr>\n",
       "      <th>549</th>\n",
       "      <td>You Are a Badass: How to Stop Doubting Your Gr...</td>\n",
       "      <td>Jen Sincero</td>\n",
       "      <td>4.7</td>\n",
       "      <td>14331</td>\n",
       "      <td>8</td>\n",
       "      <td>2019</td>\n",
       "      <td>Non Fiction</td>\n",
       "    </tr>\n",
       "  </tbody>\n",
       "</table>\n",
       "<p>550 rows × 7 columns</p>\n",
       "</div>"
      ],
      "text/plain": [
       "                                                  Name  \\\n",
       "0                        10-Day Green Smoothie Cleanse   \n",
       "1                                    11/22/63: A Novel   \n",
       "2              12 Rules for Life: An Antidote to Chaos   \n",
       "3                               1984 (Signet Classics)   \n",
       "4    5,000 Awesome Facts (About Everything!) (Natio...   \n",
       "..                                                 ...   \n",
       "545       Wrecking Ball (Diary of a Wimpy Kid Book 14)   \n",
       "546  You Are a Badass: How to Stop Doubting Your Gr...   \n",
       "547  You Are a Badass: How to Stop Doubting Your Gr...   \n",
       "548  You Are a Badass: How to Stop Doubting Your Gr...   \n",
       "549  You Are a Badass: How to Stop Doubting Your Gr...   \n",
       "\n",
       "                       Author  User Rating  Reviews  Price  Year        Genre  \n",
       "0                    JJ Smith          4.7    17350      8  2016  Non Fiction  \n",
       "1                Stephen King          4.6     2052     22  2011      Fiction  \n",
       "2          Jordan B. Peterson          4.7    18979     15  2018  Non Fiction  \n",
       "3               George Orwell          4.7    21424      6  2017      Fiction  \n",
       "4    National Geographic Kids          4.8     7665     12  2019  Non Fiction  \n",
       "..                        ...          ...      ...    ...   ...          ...  \n",
       "545               Jeff Kinney          4.9     9413      8  2019      Fiction  \n",
       "546               Jen Sincero          4.7    14331      8  2016  Non Fiction  \n",
       "547               Jen Sincero          4.7    14331      8  2017  Non Fiction  \n",
       "548               Jen Sincero          4.7    14331      8  2018  Non Fiction  \n",
       "549               Jen Sincero          4.7    14331      8  2019  Non Fiction  \n",
       "\n",
       "[550 rows x 7 columns]"
      ]
     },
     "execution_count": 6,
     "metadata": {},
     "output_type": "execute_result"
    }
   ],
   "source": [
    "data"
   ]
  },
  {
   "cell_type": "markdown",
   "metadata": {},
   "source": [
    "## Pie chart"
   ]
  },
  {
   "cell_type": "code",
   "execution_count": 11,
   "metadata": {},
   "outputs": [
    {
     "data": {
      "application/vnd.plotly.v1+json": {
       "config": {
        "plotlyServerURL": "https://plot.ly"
       },
       "data": [
        {
         "customdata": [
          [
           4.7
          ],
          [
           4.6
          ],
          [
           4.7
          ],
          [
           4.7
          ],
          [
           4.8
          ],
          [
           4.4
          ],
          [
           4.7
          ],
          [
           4.7
          ],
          [
           4.7
          ],
          [
           4.6
          ],
          [
           4.6
          ],
          [
           4.6
          ],
          [
           4.6
          ],
          [
           4.5
          ],
          [
           4.6
          ],
          [
           4.5
          ],
          [
           4.6
          ],
          [
           4.4
          ],
          [
           4.5
          ],
          [
           4.8
          ],
          [
           4.6
          ],
          [
           4.6
          ],
          [
           3.9
          ],
          [
           4.6
          ],
          [
           4.3
          ],
          [
           4.6
          ],
          [
           4.7
          ],
          [
           4.2
          ],
          [
           4.6
          ],
          [
           4.6
          ],
          [
           4.8
          ],
          [
           4.7
          ],
          [
           4.8
          ],
          [
           4.8
          ],
          [
           4.8
          ],
          [
           4.7
          ],
          [
           4.7
          ],
          [
           4.7
          ],
          [
           4.6
          ],
          [
           4.5
          ],
          [
           4.9
          ],
          [
           4.9
          ],
          [
           4.8
          ],
          [
           4.6
          ],
          [
           4.8
          ],
          [
           4.5
          ],
          [
           4.7
          ],
          [
           4.7
          ],
          [
           4.7
          ],
          [
           4.7
          ],
          [
           4.7
          ],
          [
           4.7
          ],
          [
           4.7
          ],
          [
           4.3
          ],
          [
           4.8
          ],
          [
           4.8
          ],
          [
           4.6
          ],
          [
           4.6
          ],
          [
           4.8
          ],
          [
           4.4
          ],
          [
           4.6
          ],
          [
           4.3
          ],
          [
           4.2
          ],
          [
           4.8
          ],
          [
           4.8
          ],
          [
           4.8
          ],
          [
           4.8
          ],
          [
           4.6
          ],
          [
           4.6
          ],
          [
           4.5
          ],
          [
           4.5
          ],
          [
           4.8
          ],
          [
           4.8
          ],
          [
           4.8
          ],
          [
           4.6
          ],
          [
           4.6
          ],
          [
           4.6
          ],
          [
           4.5
          ],
          [
           4.6
          ],
          [
           4.7
          ],
          [
           4.8
          ],
          [
           4.9
          ],
          [
           4.9
          ],
          [
           4.9
          ],
          [
           4.9
          ],
          [
           4.9
          ],
          [
           4.9
          ],
          [
           4.9
          ],
          [
           4.8
          ],
          [
           4.6
          ],
          [
           4.5
          ],
          [
           4.5
          ],
          [
           4.3
          ],
          [
           4.5
          ],
          [
           4.5
          ],
          [
           4.7
          ],
          [
           4.7
          ],
          [
           4.7
          ],
          [
           4.7
          ],
          [
           4.7
          ],
          [
           4.6
          ],
          [
           4.6
          ],
          [
           4.7
          ],
          [
           4.4
          ],
          [
           4.4
          ],
          [
           4.5
          ],
          [
           3.8
          ],
          [
           3.8
          ],
          [
           4.5
          ],
          [
           4.2
          ],
          [
           4.7
          ],
          [
           4.7
          ],
          [
           4.7
          ],
          [
           4.7
          ],
          [
           4.7
          ],
          [
           4.4
          ],
          [
           4.7
          ],
          [
           4.4
          ],
          [
           4.6
          ],
          [
           4.6
          ],
          [
           4.6
          ],
          [
           4.5
          ],
          [
           4.6
          ],
          [
           4.8
          ],
          [
           4.8
          ],
          [
           4.8
          ],
          [
           4.8
          ],
          [
           4.8
          ],
          [
           4.6
          ],
          [
           4.6
          ],
          [
           4.6
          ],
          [
           4.6
          ],
          [
           3.6
          ],
          [
           4.8
          ],
          [
           4.6
          ],
          [
           4
          ],
          [
           4
          ],
          [
           4
          ],
          [
           4.6
          ],
          [
           4.5
          ],
          [
           4.5
          ],
          [
           4.5
          ],
          [
           4.5
          ],
          [
           4.8
          ],
          [
           4.8
          ],
          [
           4.8
          ],
          [
           4.9
          ],
          [
           4.9
          ],
          [
           4.6
          ],
          [
           4.4
          ],
          [
           4.8
          ],
          [
           4.9
          ],
          [
           4.8
          ],
          [
           4.9
          ],
          [
           4
          ],
          [
           4.9
          ],
          [
           4.9
          ],
          [
           4.9
          ],
          [
           4.7
          ],
          [
           4.8
          ],
          [
           4.8
          ],
          [
           4.7
          ],
          [
           4.7
          ],
          [
           4.4
          ],
          [
           4.4
          ],
          [
           4.8
          ],
          [
           4.7
          ],
          [
           4.7
          ],
          [
           4.7
          ],
          [
           4.7
          ],
          [
           4.7
          ],
          [
           4.3
          ],
          [
           4.8
          ],
          [
           4.8
          ],
          [
           4.9
          ],
          [
           4.7
          ],
          [
           4.8
          ],
          [
           4.6
          ],
          [
           4.8
          ],
          [
           4.8
          ],
          [
           4.3
          ],
          [
           4.4
          ],
          [
           4.1
          ],
          [
           4.6
          ],
          [
           4.4
          ],
          [
           4.4
          ],
          [
           4.8
          ],
          [
           4.9
          ],
          [
           4.9
          ],
          [
           4.9
          ],
          [
           4.9
          ],
          [
           4.9
          ],
          [
           4.9
          ],
          [
           4.6
          ],
          [
           4.5
          ],
          [
           4.6
          ],
          [
           4.5
          ],
          [
           4.6
          ],
          [
           4.7
          ],
          [
           4.7
          ],
          [
           4.6
          ],
          [
           4.6
          ],
          [
           4.8
          ],
          [
           4.8
          ],
          [
           4.5
          ],
          [
           4.5
          ],
          [
           4.5
          ],
          [
           4.9
          ],
          [
           4.6
          ],
          [
           4.6
          ],
          [
           4.6
          ],
          [
           4.6
          ],
          [
           4.6
          ],
          [
           4.5
          ],
          [
           4.5
          ],
          [
           4.4
          ],
          [
           4.8
          ],
          [
           4.5
          ],
          [
           4.1
          ],
          [
           4.9
          ],
          [
           4.5
          ],
          [
           4.5
          ],
          [
           4.2
          ],
          [
           4.8
          ],
          [
           4.8
          ],
          [
           4.8
          ],
          [
           4.5
          ],
          [
           4.7
          ],
          [
           4.8
          ],
          [
           4.7
          ],
          [
           4.7
          ],
          [
           4.7
          ],
          [
           4.4
          ],
          [
           4.6
          ],
          [
           4.6
          ],
          [
           4.6
          ],
          [
           4.5
          ],
          [
           4.5
          ],
          [
           4.5
          ],
          [
           4.8
          ],
          [
           4.8
          ],
          [
           4.6
          ],
          [
           4.7
          ],
          [
           4.6
          ],
          [
           4.9
          ],
          [
           4.9
          ],
          [
           4.9
          ],
          [
           4.9
          ],
          [
           4.9
          ],
          [
           4.9
          ],
          [
           4.9
          ],
          [
           4.9
          ],
          [
           4.9
          ],
          [
           4.8
          ],
          [
           4.2
          ],
          [
           4.6
          ],
          [
           4.6
          ],
          [
           4.5
          ],
          [
           4.3
          ],
          [
           4.6
          ],
          [
           4.6
          ],
          [
           4.6
          ],
          [
           4.7
          ],
          [
           4.7
          ],
          [
           4.8
          ],
          [
           4.8
          ],
          [
           4.8
          ],
          [
           4.8
          ],
          [
           4.7
          ],
          [
           4.3
          ],
          [
           4.3
          ],
          [
           4.5
          ],
          [
           4.5
          ],
          [
           4.5
          ],
          [
           4.5
          ],
          [
           4.5
          ],
          [
           4.5
          ],
          [
           4.5
          ],
          [
           4.5
          ],
          [
           4.5
          ],
          [
           4.5
          ],
          [
           4.8
          ],
          [
           4.6
          ],
          [
           4.6
          ],
          [
           4.7
          ],
          [
           4.7
          ],
          [
           4.6
          ],
          [
           4.6
          ],
          [
           4.9
          ],
          [
           4.9
          ],
          [
           4.8
          ],
          [
           4.8
          ],
          [
           4.6
          ],
          [
           4.8
          ],
          [
           4.8
          ],
          [
           4.7
          ],
          [
           4.7
          ],
          [
           4.8
          ],
          [
           4.1
          ],
          [
           4.7
          ],
          [
           4.6
          ],
          [
           4.6
          ],
          [
           4.6
          ],
          [
           4.9
          ],
          [
           4
          ],
          [
           4
          ],
          [
           4
          ],
          [
           4
          ],
          [
           4
          ],
          [
           4
          ],
          [
           4
          ],
          [
           4
          ],
          [
           4
          ],
          [
           4.5
          ],
          [
           4.6
          ],
          [
           4.5
          ],
          [
           4.4
          ],
          [
           4.4
          ],
          [
           4.3
          ],
          [
           4.3
          ],
          [
           4.7
          ],
          [
           4.7
          ],
          [
           4.7
          ],
          [
           4.7
          ],
          [
           4.7
          ],
          [
           4.8
          ],
          [
           4.8
          ],
          [
           4.8
          ],
          [
           4.8
          ],
          [
           4.8
          ],
          [
           4.8
          ],
          [
           4.6
          ],
          [
           4.6
          ],
          [
           4.6
          ],
          [
           4.6
          ],
          [
           4.7
          ],
          [
           4.7
          ],
          [
           4.7
          ],
          [
           4.7
          ],
          [
           4.6
          ],
          [
           4.7
          ],
          [
           4.7
          ],
          [
           4.7
          ],
          [
           4.8
          ],
          [
           4.2
          ],
          [
           4.8
          ],
          [
           4.7
          ],
          [
           4.6
          ],
          [
           4.6
          ],
          [
           4.8
          ],
          [
           4.8
          ],
          [
           4.8
          ],
          [
           4.8
          ],
          [
           3.3
          ],
          [
           4.7
          ],
          [
           4.3
          ],
          [
           4.3
          ],
          [
           4.3
          ],
          [
           4.8
          ],
          [
           4.4
          ],
          [
           4.8
          ],
          [
           4.8
          ],
          [
           4.8
          ],
          [
           4.1
          ],
          [
           4
          ],
          [
           4.7
          ],
          [
           4.7
          ],
          [
           4.7
          ],
          [
           4.7
          ],
          [
           4.6
          ],
          [
           4.6
          ],
          [
           4.6
          ],
          [
           4.6
          ],
          [
           4.6
          ],
          [
           4.6
          ],
          [
           4.7
          ],
          [
           4.7
          ],
          [
           4.7
          ],
          [
           4.7
          ],
          [
           4.7
          ],
          [
           4.7
          ],
          [
           4.8
          ],
          [
           4.1
          ],
          [
           4.1
          ],
          [
           4.7
          ],
          [
           4.7
          ],
          [
           4.7
          ],
          [
           4.7
          ],
          [
           4.4
          ],
          [
           4.4
          ],
          [
           4.8
          ],
          [
           4.8
          ],
          [
           3.9
          ],
          [
           3.9
          ],
          [
           4.4
          ],
          [
           4.4
          ],
          [
           4.4
          ],
          [
           4.5
          ],
          [
           4.7
          ],
          [
           4.3
          ],
          [
           4.6
          ],
          [
           4.8
          ],
          [
           4.8
          ],
          [
           4.8
          ],
          [
           4.8
          ],
          [
           4.8
          ],
          [
           4.8
          ],
          [
           4.7
          ],
          [
           4.7
          ],
          [
           4.7
          ],
          [
           4.8
          ],
          [
           4.8
          ],
          [
           4.7
          ],
          [
           4.7
          ],
          [
           4.7
          ],
          [
           4.3
          ],
          [
           4.3
          ],
          [
           4.7
          ],
          [
           4.8
          ],
          [
           4.8
          ],
          [
           4.9
          ],
          [
           4.4
          ],
          [
           4.4
          ],
          [
           4.5
          ],
          [
           4.5
          ],
          [
           4.5
          ],
          [
           4.5
          ],
          [
           4.4
          ],
          [
           4.8
          ],
          [
           4.2
          ],
          [
           4.8
          ],
          [
           4.9
          ],
          [
           4.8
          ],
          [
           4.7
          ],
          [
           4.5
          ],
          [
           4.8
          ],
          [
           4.6
          ],
          [
           4.8
          ],
          [
           4.8
          ],
          [
           4.4
          ],
          [
           4.4
          ],
          [
           4.4
          ],
          [
           4.4
          ],
          [
           4.4
          ],
          [
           4.3
          ],
          [
           4.3
          ],
          [
           4.8
          ],
          [
           4.8
          ],
          [
           4.8
          ],
          [
           4.5
          ],
          [
           4.4
          ],
          [
           4.8
          ],
          [
           4.8
          ],
          [
           4.6
          ],
          [
           4.3
          ],
          [
           4.3
          ],
          [
           4.6
          ],
          [
           4.6
          ],
          [
           4.8
          ],
          [
           4.6
          ],
          [
           4.6
          ],
          [
           4.6
          ],
          [
           4.5
          ],
          [
           4.8
          ],
          [
           4.6
          ],
          [
           4.6
          ],
          [
           4.6
          ],
          [
           4.7
          ],
          [
           4.7
          ],
          [
           4.7
          ],
          [
           4.4
          ],
          [
           4.4
          ],
          [
           4.7
          ],
          [
           4.7
          ],
          [
           4.8
          ],
          [
           4.7
          ],
          [
           4.9
          ],
          [
           4.9
          ],
          [
           4.9
          ],
          [
           4.9
          ],
          [
           4.9
          ],
          [
           4.9
          ],
          [
           4.9
          ],
          [
           4.6
          ],
          [
           4.6
          ],
          [
           4.6
          ],
          [
           4.9
          ],
          [
           4.9
          ],
          [
           4.9
          ],
          [
           4.9
          ],
          [
           4.8
          ],
          [
           4.8
          ],
          [
           4.7
          ],
          [
           4.7
          ],
          [
           4.6
          ],
          [
           4.6
          ],
          [
           4.5
          ],
          [
           4.5
          ],
          [
           4.3
          ],
          [
           4.3
          ],
          [
           4.6
          ],
          [
           4.6
          ],
          [
           4.6
          ],
          [
           4.6
          ],
          [
           4.3
          ],
          [
           4.8
          ],
          [
           4.8
          ],
          [
           4.8
          ],
          [
           4.8
          ],
          [
           4.8
          ],
          [
           4.6
          ],
          [
           4.8
          ],
          [
           4.5
          ],
          [
           4.7
          ],
          [
           4.5
          ],
          [
           4.8
          ],
          [
           4.8
          ],
          [
           4.8
          ],
          [
           4.8
          ],
          [
           4.8
          ],
          [
           4.3
          ],
          [
           4.9
          ],
          [
           4.8
          ],
          [
           4.7
          ],
          [
           4.8
          ],
          [
           4.5
          ],
          [
           4.6
          ],
          [
           4.7
          ],
          [
           4.7
          ],
          [
           4.8
          ],
          [
           4.4
          ],
          [
           4.4
          ],
          [
           4.4
          ],
          [
           4.8
          ],
          [
           4.8
          ],
          [
           4.8
          ],
          [
           4.6
          ],
          [
           4.4
          ],
          [
           4.5
          ],
          [
           4.2
          ],
          [
           4.8
          ],
          [
           4.8
          ],
          [
           4.8
          ],
          [
           4.8
          ],
          [
           4.8
          ],
          [
           4.9
          ],
          [
           4.7
          ],
          [
           4.7
          ],
          [
           4.7
          ],
          [
           4.7
          ]
         ],
         "domain": {
          "x": [
           0,
           1
          ],
          "y": [
           0,
           1
          ]
         },
         "hovertemplate": "Genre=%{label}<br>User Rating=%{customdata[0]}<extra></extra>",
         "labels": [
          "Non Fiction",
          "Fiction",
          "Non Fiction",
          "Fiction",
          "Non Fiction",
          "Fiction",
          "Fiction",
          "Fiction",
          "Non Fiction",
          "Fiction",
          "Fiction",
          "Non Fiction",
          "Non Fiction",
          "Fiction",
          "Non Fiction",
          "Non Fiction",
          "Non Fiction",
          "Non Fiction",
          "Non Fiction",
          "Non Fiction",
          "Fiction",
          "Fiction",
          "Fiction",
          "Non Fiction",
          "Fiction",
          "Non Fiction",
          "Non Fiction",
          "Non Fiction",
          "Non Fiction",
          "Non Fiction",
          "Non Fiction",
          "Non Fiction",
          "Non Fiction",
          "Non Fiction",
          "Non Fiction",
          "Non Fiction",
          "Non Fiction",
          "Non Fiction",
          "Fiction",
          "Non Fiction",
          "Fiction",
          "Fiction",
          "Fiction",
          "Non Fiction",
          "Non Fiction",
          "Non Fiction",
          "Fiction",
          "Fiction",
          "Fiction",
          "Non Fiction",
          "Non Fiction",
          "Non Fiction",
          "Non Fiction",
          "Fiction",
          "Non Fiction",
          "Non Fiction",
          "Fiction",
          "Fiction",
          "Non Fiction",
          "Non Fiction",
          "Fiction",
          "Fiction",
          "Fiction",
          "Fiction",
          "Fiction",
          "Fiction",
          "Fiction",
          "Non Fiction",
          "Non Fiction",
          "Non Fiction",
          "Non Fiction",
          "Fiction",
          "Fiction",
          "Fiction",
          "Non Fiction",
          "Fiction",
          "Fiction",
          "Fiction",
          "Non Fiction",
          "Fiction",
          "Fiction",
          "Fiction",
          "Fiction",
          "Fiction",
          "Fiction",
          "Fiction",
          "Fiction",
          "Fiction",
          "Fiction",
          "Non Fiction",
          "Non Fiction",
          "Non Fiction",
          "Non Fiction",
          "Non Fiction",
          "Non Fiction",
          "Fiction",
          "Fiction",
          "Non Fiction",
          "Non Fiction",
          "Non Fiction",
          "Fiction",
          "Fiction",
          "Fiction",
          "Non Fiction",
          "Fiction",
          "Fiction",
          "Fiction",
          "Fiction",
          "Fiction",
          "Non Fiction",
          "Non Fiction",
          "Non Fiction",
          "Non Fiction",
          "Non Fiction",
          "Non Fiction",
          "Non Fiction",
          "Fiction",
          "Non Fiction",
          "Fiction",
          "Fiction",
          "Fiction",
          "Non Fiction",
          "Non Fiction",
          "Fiction",
          "Fiction",
          "Fiction",
          "Fiction",
          "Fiction",
          "Non Fiction",
          "Non Fiction",
          "Non Fiction",
          "Non Fiction",
          "Fiction",
          "Fiction",
          "Non Fiction",
          "Fiction",
          "Fiction",
          "Fiction",
          "Non Fiction",
          "Non Fiction",
          "Non Fiction",
          "Non Fiction",
          "Non Fiction",
          "Fiction",
          "Fiction",
          "Fiction",
          "Fiction",
          "Fiction",
          "Non Fiction",
          "Fiction",
          "Non Fiction",
          "Non Fiction",
          "Non Fiction",
          "Fiction",
          "Fiction",
          "Fiction",
          "Fiction",
          "Fiction",
          "Non Fiction",
          "Fiction",
          "Non Fiction",
          "Non Fiction",
          "Non Fiction",
          "Non Fiction",
          "Non Fiction",
          "Non Fiction",
          "Non Fiction",
          "Non Fiction",
          "Non Fiction",
          "Non Fiction",
          "Non Fiction",
          "Non Fiction",
          "Non Fiction",
          "Non Fiction",
          "Non Fiction",
          "Non Fiction",
          "Non Fiction",
          "Fiction",
          "Fiction",
          "Fiction",
          "Fiction",
          "Non Fiction",
          "Fiction",
          "Fiction",
          "Non Fiction",
          "Non Fiction",
          "Non Fiction",
          "Non Fiction",
          "Non Fiction",
          "Non Fiction",
          "Non Fiction",
          "Non Fiction",
          "Non Fiction",
          "Fiction",
          "Fiction",
          "Non Fiction",
          "Non Fiction",
          "Non Fiction",
          "Non Fiction",
          "Non Fiction",
          "Non Fiction",
          "Non Fiction",
          "Non Fiction",
          "Non Fiction",
          "Non Fiction",
          "Non Fiction",
          "Non Fiction",
          "Fiction",
          "Non Fiction",
          "Non Fiction",
          "Non Fiction",
          "Non Fiction",
          "Non Fiction",
          "Non Fiction",
          "Non Fiction",
          "Non Fiction",
          "Non Fiction",
          "Non Fiction",
          "Fiction",
          "Fiction",
          "Fiction",
          "Fiction",
          "Non Fiction",
          "Fiction",
          "Fiction",
          "Non Fiction",
          "Non Fiction",
          "Non Fiction",
          "Non Fiction",
          "Non Fiction",
          "Non Fiction",
          "Non Fiction",
          "Non Fiction",
          "Non Fiction",
          "Non Fiction",
          "Non Fiction",
          "Fiction",
          "Fiction",
          "Fiction",
          "Non Fiction",
          "Non Fiction",
          "Fiction",
          "Non Fiction",
          "Non Fiction",
          "Non Fiction",
          "Fiction",
          "Fiction",
          "Fiction",
          "Fiction",
          "Fiction",
          "Fiction",
          "Fiction",
          "Fiction",
          "Fiction",
          "Fiction",
          "Non Fiction",
          "Non Fiction",
          "Non Fiction",
          "Fiction",
          "Fiction",
          "Non Fiction",
          "Non Fiction",
          "Non Fiction",
          "Non Fiction",
          "Fiction",
          "Fiction",
          "Fiction",
          "Fiction",
          "Fiction",
          "Non Fiction",
          "Non Fiction",
          "Non Fiction",
          "Non Fiction",
          "Non Fiction",
          "Non Fiction",
          "Non Fiction",
          "Non Fiction",
          "Non Fiction",
          "Non Fiction",
          "Non Fiction",
          "Non Fiction",
          "Fiction",
          "Non Fiction",
          "Non Fiction",
          "Non Fiction",
          "Non Fiction",
          "Fiction",
          "Fiction",
          "Fiction",
          "Fiction",
          "Non Fiction",
          "Non Fiction",
          "Fiction",
          "Non Fiction",
          "Non Fiction",
          "Non Fiction",
          "Non Fiction",
          "Non Fiction",
          "Non Fiction",
          "Fiction",
          "Non Fiction",
          "Non Fiction",
          "Non Fiction",
          "Fiction",
          "Non Fiction",
          "Non Fiction",
          "Non Fiction",
          "Non Fiction",
          "Non Fiction",
          "Non Fiction",
          "Non Fiction",
          "Non Fiction",
          "Non Fiction",
          "Non Fiction",
          "Non Fiction",
          "Fiction",
          "Non Fiction",
          "Non Fiction",
          "Non Fiction",
          "Non Fiction",
          "Non Fiction",
          "Non Fiction",
          "Non Fiction",
          "Non Fiction",
          "Non Fiction",
          "Non Fiction",
          "Non Fiction",
          "Non Fiction",
          "Non Fiction",
          "Non Fiction",
          "Non Fiction",
          "Non Fiction",
          "Non Fiction",
          "Non Fiction",
          "Non Fiction",
          "Non Fiction",
          "Non Fiction",
          "Non Fiction",
          "Fiction",
          "Non Fiction",
          "Fiction",
          "Fiction",
          "Non Fiction",
          "Fiction",
          "Non Fiction",
          "Non Fiction",
          "Non Fiction",
          "Fiction",
          "Fiction",
          "Fiction",
          "Fiction",
          "Non Fiction",
          "Non Fiction",
          "Fiction",
          "Non Fiction",
          "Non Fiction",
          "Non Fiction",
          "Fiction",
          "Non Fiction",
          "Non Fiction",
          "Fiction",
          "Fiction",
          "Fiction",
          "Non Fiction",
          "Fiction",
          "Fiction",
          "Fiction",
          "Fiction",
          "Fiction",
          "Non Fiction",
          "Non Fiction",
          "Non Fiction",
          "Non Fiction",
          "Non Fiction",
          "Non Fiction",
          "Non Fiction",
          "Non Fiction",
          "Non Fiction",
          "Non Fiction",
          "Non Fiction",
          "Non Fiction",
          "Fiction",
          "Fiction",
          "Fiction",
          "Fiction",
          "Fiction",
          "Fiction",
          "Fiction",
          "Fiction",
          "Fiction",
          "Fiction",
          "Fiction",
          "Fiction",
          "Fiction",
          "Fiction",
          "Fiction",
          "Fiction",
          "Fiction",
          "Fiction",
          "Fiction",
          "Fiction",
          "Fiction",
          "Fiction",
          "Fiction",
          "Fiction",
          "Fiction",
          "Fiction",
          "Fiction",
          "Fiction",
          "Fiction",
          "Fiction",
          "Fiction",
          "Non Fiction",
          "Non Fiction",
          "Non Fiction",
          "Non Fiction",
          "Non Fiction",
          "Non Fiction",
          "Fiction",
          "Fiction",
          "Fiction",
          "Non Fiction",
          "Non Fiction",
          "Non Fiction",
          "Non Fiction",
          "Non Fiction",
          "Non Fiction",
          "Fiction",
          "Fiction",
          "Fiction",
          "Non Fiction",
          "Non Fiction",
          "Fiction",
          "Fiction",
          "Fiction",
          "Fiction",
          "Non Fiction",
          "Fiction",
          "Fiction",
          "Non Fiction",
          "Non Fiction",
          "Non Fiction",
          "Non Fiction",
          "Non Fiction",
          "Non Fiction",
          "Fiction",
          "Non Fiction",
          "Non Fiction",
          "Non Fiction",
          "Non Fiction",
          "Non Fiction",
          "Fiction",
          "Fiction",
          "Non Fiction",
          "Fiction",
          "Fiction",
          "Fiction",
          "Non Fiction",
          "Fiction",
          "Fiction",
          "Fiction",
          "Fiction",
          "Fiction",
          "Fiction",
          "Non Fiction",
          "Non Fiction",
          "Non Fiction",
          "Non Fiction",
          "Fiction",
          "Fiction",
          "Fiction",
          "Non Fiction",
          "Non Fiction",
          "Fiction",
          "Fiction",
          "Non Fiction",
          "Fiction",
          "Fiction",
          "Fiction",
          "Fiction",
          "Fiction",
          "Fiction",
          "Fiction",
          "Non Fiction",
          "Non Fiction",
          "Non Fiction",
          "Fiction",
          "Fiction",
          "Fiction",
          "Fiction",
          "Fiction",
          "Fiction",
          "Non Fiction",
          "Non Fiction",
          "Non Fiction",
          "Non Fiction",
          "Fiction",
          "Non Fiction",
          "Non Fiction",
          "Non Fiction",
          "Non Fiction",
          "Non Fiction",
          "Non Fiction",
          "Non Fiction",
          "Non Fiction",
          "Fiction",
          "Fiction",
          "Fiction",
          "Fiction",
          "Fiction",
          "Non Fiction",
          "Fiction",
          "Non Fiction",
          "Fiction",
          "Fiction",
          "Non Fiction",
          "Non Fiction",
          "Non Fiction",
          "Non Fiction",
          "Non Fiction",
          "Fiction",
          "Non Fiction",
          "Non Fiction",
          "Non Fiction",
          "Fiction",
          "Fiction",
          "Non Fiction",
          "Non Fiction",
          "Fiction",
          "Fiction",
          "Non Fiction",
          "Non Fiction",
          "Non Fiction",
          "Non Fiction",
          "Fiction",
          "Fiction",
          "Non Fiction",
          "Non Fiction",
          "Fiction",
          "Non Fiction",
          "Fiction",
          "Fiction",
          "Fiction",
          "Fiction",
          "Fiction",
          "Fiction",
          "Non Fiction",
          "Non Fiction",
          "Non Fiction",
          "Non Fiction"
         ],
         "legendgroup": "",
         "name": "",
         "showlegend": true,
         "textinfo": "percent+label",
         "textposition": "inside",
         "type": "pie"
        }
       ],
       "layout": {
        "legend": {
         "tracegroupgap": 0
        },
        "template": {
         "data": {
          "bar": [
           {
            "error_x": {
             "color": "#2a3f5f"
            },
            "error_y": {
             "color": "#2a3f5f"
            },
            "marker": {
             "line": {
              "color": "#E5ECF6",
              "width": 0.5
             }
            },
            "type": "bar"
           }
          ],
          "barpolar": [
           {
            "marker": {
             "line": {
              "color": "#E5ECF6",
              "width": 0.5
             }
            },
            "type": "barpolar"
           }
          ],
          "carpet": [
           {
            "aaxis": {
             "endlinecolor": "#2a3f5f",
             "gridcolor": "white",
             "linecolor": "white",
             "minorgridcolor": "white",
             "startlinecolor": "#2a3f5f"
            },
            "baxis": {
             "endlinecolor": "#2a3f5f",
             "gridcolor": "white",
             "linecolor": "white",
             "minorgridcolor": "white",
             "startlinecolor": "#2a3f5f"
            },
            "type": "carpet"
           }
          ],
          "choropleth": [
           {
            "colorbar": {
             "outlinewidth": 0,
             "ticks": ""
            },
            "type": "choropleth"
           }
          ],
          "contour": [
           {
            "colorbar": {
             "outlinewidth": 0,
             "ticks": ""
            },
            "colorscale": [
             [
              0,
              "#0d0887"
             ],
             [
              0.1111111111111111,
              "#46039f"
             ],
             [
              0.2222222222222222,
              "#7201a8"
             ],
             [
              0.3333333333333333,
              "#9c179e"
             ],
             [
              0.4444444444444444,
              "#bd3786"
             ],
             [
              0.5555555555555556,
              "#d8576b"
             ],
             [
              0.6666666666666666,
              "#ed7953"
             ],
             [
              0.7777777777777778,
              "#fb9f3a"
             ],
             [
              0.8888888888888888,
              "#fdca26"
             ],
             [
              1,
              "#f0f921"
             ]
            ],
            "type": "contour"
           }
          ],
          "contourcarpet": [
           {
            "colorbar": {
             "outlinewidth": 0,
             "ticks": ""
            },
            "type": "contourcarpet"
           }
          ],
          "heatmap": [
           {
            "colorbar": {
             "outlinewidth": 0,
             "ticks": ""
            },
            "colorscale": [
             [
              0,
              "#0d0887"
             ],
             [
              0.1111111111111111,
              "#46039f"
             ],
             [
              0.2222222222222222,
              "#7201a8"
             ],
             [
              0.3333333333333333,
              "#9c179e"
             ],
             [
              0.4444444444444444,
              "#bd3786"
             ],
             [
              0.5555555555555556,
              "#d8576b"
             ],
             [
              0.6666666666666666,
              "#ed7953"
             ],
             [
              0.7777777777777778,
              "#fb9f3a"
             ],
             [
              0.8888888888888888,
              "#fdca26"
             ],
             [
              1,
              "#f0f921"
             ]
            ],
            "type": "heatmap"
           }
          ],
          "heatmapgl": [
           {
            "colorbar": {
             "outlinewidth": 0,
             "ticks": ""
            },
            "colorscale": [
             [
              0,
              "#0d0887"
             ],
             [
              0.1111111111111111,
              "#46039f"
             ],
             [
              0.2222222222222222,
              "#7201a8"
             ],
             [
              0.3333333333333333,
              "#9c179e"
             ],
             [
              0.4444444444444444,
              "#bd3786"
             ],
             [
              0.5555555555555556,
              "#d8576b"
             ],
             [
              0.6666666666666666,
              "#ed7953"
             ],
             [
              0.7777777777777778,
              "#fb9f3a"
             ],
             [
              0.8888888888888888,
              "#fdca26"
             ],
             [
              1,
              "#f0f921"
             ]
            ],
            "type": "heatmapgl"
           }
          ],
          "histogram": [
           {
            "marker": {
             "colorbar": {
              "outlinewidth": 0,
              "ticks": ""
             }
            },
            "type": "histogram"
           }
          ],
          "histogram2d": [
           {
            "colorbar": {
             "outlinewidth": 0,
             "ticks": ""
            },
            "colorscale": [
             [
              0,
              "#0d0887"
             ],
             [
              0.1111111111111111,
              "#46039f"
             ],
             [
              0.2222222222222222,
              "#7201a8"
             ],
             [
              0.3333333333333333,
              "#9c179e"
             ],
             [
              0.4444444444444444,
              "#bd3786"
             ],
             [
              0.5555555555555556,
              "#d8576b"
             ],
             [
              0.6666666666666666,
              "#ed7953"
             ],
             [
              0.7777777777777778,
              "#fb9f3a"
             ],
             [
              0.8888888888888888,
              "#fdca26"
             ],
             [
              1,
              "#f0f921"
             ]
            ],
            "type": "histogram2d"
           }
          ],
          "histogram2dcontour": [
           {
            "colorbar": {
             "outlinewidth": 0,
             "ticks": ""
            },
            "colorscale": [
             [
              0,
              "#0d0887"
             ],
             [
              0.1111111111111111,
              "#46039f"
             ],
             [
              0.2222222222222222,
              "#7201a8"
             ],
             [
              0.3333333333333333,
              "#9c179e"
             ],
             [
              0.4444444444444444,
              "#bd3786"
             ],
             [
              0.5555555555555556,
              "#d8576b"
             ],
             [
              0.6666666666666666,
              "#ed7953"
             ],
             [
              0.7777777777777778,
              "#fb9f3a"
             ],
             [
              0.8888888888888888,
              "#fdca26"
             ],
             [
              1,
              "#f0f921"
             ]
            ],
            "type": "histogram2dcontour"
           }
          ],
          "mesh3d": [
           {
            "colorbar": {
             "outlinewidth": 0,
             "ticks": ""
            },
            "type": "mesh3d"
           }
          ],
          "parcoords": [
           {
            "line": {
             "colorbar": {
              "outlinewidth": 0,
              "ticks": ""
             }
            },
            "type": "parcoords"
           }
          ],
          "pie": [
           {
            "automargin": true,
            "type": "pie"
           }
          ],
          "scatter": [
           {
            "marker": {
             "colorbar": {
              "outlinewidth": 0,
              "ticks": ""
             }
            },
            "type": "scatter"
           }
          ],
          "scatter3d": [
           {
            "line": {
             "colorbar": {
              "outlinewidth": 0,
              "ticks": ""
             }
            },
            "marker": {
             "colorbar": {
              "outlinewidth": 0,
              "ticks": ""
             }
            },
            "type": "scatter3d"
           }
          ],
          "scattercarpet": [
           {
            "marker": {
             "colorbar": {
              "outlinewidth": 0,
              "ticks": ""
             }
            },
            "type": "scattercarpet"
           }
          ],
          "scattergeo": [
           {
            "marker": {
             "colorbar": {
              "outlinewidth": 0,
              "ticks": ""
             }
            },
            "type": "scattergeo"
           }
          ],
          "scattergl": [
           {
            "marker": {
             "colorbar": {
              "outlinewidth": 0,
              "ticks": ""
             }
            },
            "type": "scattergl"
           }
          ],
          "scattermapbox": [
           {
            "marker": {
             "colorbar": {
              "outlinewidth": 0,
              "ticks": ""
             }
            },
            "type": "scattermapbox"
           }
          ],
          "scatterpolar": [
           {
            "marker": {
             "colorbar": {
              "outlinewidth": 0,
              "ticks": ""
             }
            },
            "type": "scatterpolar"
           }
          ],
          "scatterpolargl": [
           {
            "marker": {
             "colorbar": {
              "outlinewidth": 0,
              "ticks": ""
             }
            },
            "type": "scatterpolargl"
           }
          ],
          "scatterternary": [
           {
            "marker": {
             "colorbar": {
              "outlinewidth": 0,
              "ticks": ""
             }
            },
            "type": "scatterternary"
           }
          ],
          "surface": [
           {
            "colorbar": {
             "outlinewidth": 0,
             "ticks": ""
            },
            "colorscale": [
             [
              0,
              "#0d0887"
             ],
             [
              0.1111111111111111,
              "#46039f"
             ],
             [
              0.2222222222222222,
              "#7201a8"
             ],
             [
              0.3333333333333333,
              "#9c179e"
             ],
             [
              0.4444444444444444,
              "#bd3786"
             ],
             [
              0.5555555555555556,
              "#d8576b"
             ],
             [
              0.6666666666666666,
              "#ed7953"
             ],
             [
              0.7777777777777778,
              "#fb9f3a"
             ],
             [
              0.8888888888888888,
              "#fdca26"
             ],
             [
              1,
              "#f0f921"
             ]
            ],
            "type": "surface"
           }
          ],
          "table": [
           {
            "cells": {
             "fill": {
              "color": "#EBF0F8"
             },
             "line": {
              "color": "white"
             }
            },
            "header": {
             "fill": {
              "color": "#C8D4E3"
             },
             "line": {
              "color": "white"
             }
            },
            "type": "table"
           }
          ]
         },
         "layout": {
          "annotationdefaults": {
           "arrowcolor": "#2a3f5f",
           "arrowhead": 0,
           "arrowwidth": 1
          },
          "autotypenumbers": "strict",
          "coloraxis": {
           "colorbar": {
            "outlinewidth": 0,
            "ticks": ""
           }
          },
          "colorscale": {
           "diverging": [
            [
             0,
             "#8e0152"
            ],
            [
             0.1,
             "#c51b7d"
            ],
            [
             0.2,
             "#de77ae"
            ],
            [
             0.3,
             "#f1b6da"
            ],
            [
             0.4,
             "#fde0ef"
            ],
            [
             0.5,
             "#f7f7f7"
            ],
            [
             0.6,
             "#e6f5d0"
            ],
            [
             0.7,
             "#b8e186"
            ],
            [
             0.8,
             "#7fbc41"
            ],
            [
             0.9,
             "#4d9221"
            ],
            [
             1,
             "#276419"
            ]
           ],
           "sequential": [
            [
             0,
             "#0d0887"
            ],
            [
             0.1111111111111111,
             "#46039f"
            ],
            [
             0.2222222222222222,
             "#7201a8"
            ],
            [
             0.3333333333333333,
             "#9c179e"
            ],
            [
             0.4444444444444444,
             "#bd3786"
            ],
            [
             0.5555555555555556,
             "#d8576b"
            ],
            [
             0.6666666666666666,
             "#ed7953"
            ],
            [
             0.7777777777777778,
             "#fb9f3a"
            ],
            [
             0.8888888888888888,
             "#fdca26"
            ],
            [
             1,
             "#f0f921"
            ]
           ],
           "sequentialminus": [
            [
             0,
             "#0d0887"
            ],
            [
             0.1111111111111111,
             "#46039f"
            ],
            [
             0.2222222222222222,
             "#7201a8"
            ],
            [
             0.3333333333333333,
             "#9c179e"
            ],
            [
             0.4444444444444444,
             "#bd3786"
            ],
            [
             0.5555555555555556,
             "#d8576b"
            ],
            [
             0.6666666666666666,
             "#ed7953"
            ],
            [
             0.7777777777777778,
             "#fb9f3a"
            ],
            [
             0.8888888888888888,
             "#fdca26"
            ],
            [
             1,
             "#f0f921"
            ]
           ]
          },
          "colorway": [
           "#636efa",
           "#EF553B",
           "#00cc96",
           "#ab63fa",
           "#FFA15A",
           "#19d3f3",
           "#FF6692",
           "#B6E880",
           "#FF97FF",
           "#FECB52"
          ],
          "font": {
           "color": "#2a3f5f"
          },
          "geo": {
           "bgcolor": "white",
           "lakecolor": "white",
           "landcolor": "#E5ECF6",
           "showlakes": true,
           "showland": true,
           "subunitcolor": "white"
          },
          "hoverlabel": {
           "align": "left"
          },
          "hovermode": "closest",
          "mapbox": {
           "style": "light"
          },
          "paper_bgcolor": "white",
          "plot_bgcolor": "#E5ECF6",
          "polar": {
           "angularaxis": {
            "gridcolor": "white",
            "linecolor": "white",
            "ticks": ""
           },
           "bgcolor": "#E5ECF6",
           "radialaxis": {
            "gridcolor": "white",
            "linecolor": "white",
            "ticks": ""
           }
          },
          "scene": {
           "xaxis": {
            "backgroundcolor": "#E5ECF6",
            "gridcolor": "white",
            "gridwidth": 2,
            "linecolor": "white",
            "showbackground": true,
            "ticks": "",
            "zerolinecolor": "white"
           },
           "yaxis": {
            "backgroundcolor": "#E5ECF6",
            "gridcolor": "white",
            "gridwidth": 2,
            "linecolor": "white",
            "showbackground": true,
            "ticks": "",
            "zerolinecolor": "white"
           },
           "zaxis": {
            "backgroundcolor": "#E5ECF6",
            "gridcolor": "white",
            "gridwidth": 2,
            "linecolor": "white",
            "showbackground": true,
            "ticks": "",
            "zerolinecolor": "white"
           }
          },
          "shapedefaults": {
           "line": {
            "color": "#2a3f5f"
           }
          },
          "ternary": {
           "aaxis": {
            "gridcolor": "white",
            "linecolor": "white",
            "ticks": ""
           },
           "baxis": {
            "gridcolor": "white",
            "linecolor": "white",
            "ticks": ""
           },
           "bgcolor": "#E5ECF6",
           "caxis": {
            "gridcolor": "white",
            "linecolor": "white",
            "ticks": ""
           }
          },
          "title": {
           "x": 0.05
          },
          "xaxis": {
           "automargin": true,
           "gridcolor": "white",
           "linecolor": "white",
           "ticks": "",
           "title": {
            "standoff": 15
           },
           "zerolinecolor": "white",
           "zerolinewidth": 2
          },
          "yaxis": {
           "automargin": true,
           "gridcolor": "white",
           "linecolor": "white",
           "ticks": "",
           "title": {
            "standoff": 15
           },
           "zerolinecolor": "white",
           "zerolinewidth": 2
          }
         }
        },
        "title": {
         "text": "Genre Pie Chart"
        }
       }
      },
      "text/html": [
       "<div>                            <div id=\"28ac88fe-c656-4671-88a1-9dcf83efe5a4\" class=\"plotly-graph-div\" style=\"height:525px; width:100%;\"></div>            <script type=\"text/javascript\">                require([\"plotly\"], function(Plotly) {                    window.PLOTLYENV=window.PLOTLYENV || {};                                    if (document.getElementById(\"28ac88fe-c656-4671-88a1-9dcf83efe5a4\")) {                    Plotly.newPlot(                        \"28ac88fe-c656-4671-88a1-9dcf83efe5a4\",                        [{\"customdata\": [[4.7], [4.6], [4.7], [4.7], [4.8], [4.4], [4.7], [4.7], [4.7], [4.6], [4.6], [4.6], [4.6], [4.5], [4.6], [4.5], [4.6], [4.4], [4.5], [4.8], [4.6], [4.6], [3.9], [4.6], [4.3], [4.6], [4.7], [4.2], [4.6], [4.6], [4.8], [4.7], [4.8], [4.8], [4.8], [4.7], [4.7], [4.7], [4.6], [4.5], [4.9], [4.9], [4.8], [4.6], [4.8], [4.5], [4.7], [4.7], [4.7], [4.7], [4.7], [4.7], [4.7], [4.3], [4.8], [4.8], [4.6], [4.6], [4.8], [4.4], [4.6], [4.3], [4.2], [4.8], [4.8], [4.8], [4.8], [4.6], [4.6], [4.5], [4.5], [4.8], [4.8], [4.8], [4.6], [4.6], [4.6], [4.5], [4.6], [4.7], [4.8], [4.9], [4.9], [4.9], [4.9], [4.9], [4.9], [4.9], [4.8], [4.6], [4.5], [4.5], [4.3], [4.5], [4.5], [4.7], [4.7], [4.7], [4.7], [4.7], [4.6], [4.6], [4.7], [4.4], [4.4], [4.5], [3.8], [3.8], [4.5], [4.2], [4.7], [4.7], [4.7], [4.7], [4.7], [4.4], [4.7], [4.4], [4.6], [4.6], [4.6], [4.5], [4.6], [4.8], [4.8], [4.8], [4.8], [4.8], [4.6], [4.6], [4.6], [4.6], [3.6], [4.8], [4.6], [4.0], [4.0], [4.0], [4.6], [4.5], [4.5], [4.5], [4.5], [4.8], [4.8], [4.8], [4.9], [4.9], [4.6], [4.4], [4.8], [4.9], [4.8], [4.9], [4.0], [4.9], [4.9], [4.9], [4.7], [4.8], [4.8], [4.7], [4.7], [4.4], [4.4], [4.8], [4.7], [4.7], [4.7], [4.7], [4.7], [4.3], [4.8], [4.8], [4.9], [4.7], [4.8], [4.6], [4.8], [4.8], [4.3], [4.4], [4.1], [4.6], [4.4], [4.4], [4.8], [4.9], [4.9], [4.9], [4.9], [4.9], [4.9], [4.6], [4.5], [4.6], [4.5], [4.6], [4.7], [4.7], [4.6], [4.6], [4.8], [4.8], [4.5], [4.5], [4.5], [4.9], [4.6], [4.6], [4.6], [4.6], [4.6], [4.5], [4.5], [4.4], [4.8], [4.5], [4.1], [4.9], [4.5], [4.5], [4.2], [4.8], [4.8], [4.8], [4.5], [4.7], [4.8], [4.7], [4.7], [4.7], [4.4], [4.6], [4.6], [4.6], [4.5], [4.5], [4.5], [4.8], [4.8], [4.6], [4.7], [4.6], [4.9], [4.9], [4.9], [4.9], [4.9], [4.9], [4.9], [4.9], [4.9], [4.8], [4.2], [4.6], [4.6], [4.5], [4.3], [4.6], [4.6], [4.6], [4.7], [4.7], [4.8], [4.8], [4.8], [4.8], [4.7], [4.3], [4.3], [4.5], [4.5], [4.5], [4.5], [4.5], [4.5], [4.5], [4.5], [4.5], [4.5], [4.8], [4.6], [4.6], [4.7], [4.7], [4.6], [4.6], [4.9], [4.9], [4.8], [4.8], [4.6], [4.8], [4.8], [4.7], [4.7], [4.8], [4.1], [4.7], [4.6], [4.6], [4.6], [4.9], [4.0], [4.0], [4.0], [4.0], [4.0], [4.0], [4.0], [4.0], [4.0], [4.5], [4.6], [4.5], [4.4], [4.4], [4.3], [4.3], [4.7], [4.7], [4.7], [4.7], [4.7], [4.8], [4.8], [4.8], [4.8], [4.8], [4.8], [4.6], [4.6], [4.6], [4.6], [4.7], [4.7], [4.7], [4.7], [4.6], [4.7], [4.7], [4.7], [4.8], [4.2], [4.8], [4.7], [4.6], [4.6], [4.8], [4.8], [4.8], [4.8], [3.3], [4.7], [4.3], [4.3], [4.3], [4.8], [4.4], [4.8], [4.8], [4.8], [4.1], [4.0], [4.7], [4.7], [4.7], [4.7], [4.6], [4.6], [4.6], [4.6], [4.6], [4.6], [4.7], [4.7], [4.7], [4.7], [4.7], [4.7], [4.8], [4.1], [4.1], [4.7], [4.7], [4.7], [4.7], [4.4], [4.4], [4.8], [4.8], [3.9], [3.9], [4.4], [4.4], [4.4], [4.5], [4.7], [4.3], [4.6], [4.8], [4.8], [4.8], [4.8], [4.8], [4.8], [4.7], [4.7], [4.7], [4.8], [4.8], [4.7], [4.7], [4.7], [4.3], [4.3], [4.7], [4.8], [4.8], [4.9], [4.4], [4.4], [4.5], [4.5], [4.5], [4.5], [4.4], [4.8], [4.2], [4.8], [4.9], [4.8], [4.7], [4.5], [4.8], [4.6], [4.8], [4.8], [4.4], [4.4], [4.4], [4.4], [4.4], [4.3], [4.3], [4.8], [4.8], [4.8], [4.5], [4.4], [4.8], [4.8], [4.6], [4.3], [4.3], [4.6], [4.6], [4.8], [4.6], [4.6], [4.6], [4.5], [4.8], [4.6], [4.6], [4.6], [4.7], [4.7], [4.7], [4.4], [4.4], [4.7], [4.7], [4.8], [4.7], [4.9], [4.9], [4.9], [4.9], [4.9], [4.9], [4.9], [4.6], [4.6], [4.6], [4.9], [4.9], [4.9], [4.9], [4.8], [4.8], [4.7], [4.7], [4.6], [4.6], [4.5], [4.5], [4.3], [4.3], [4.6], [4.6], [4.6], [4.6], [4.3], [4.8], [4.8], [4.8], [4.8], [4.8], [4.6], [4.8], [4.5], [4.7], [4.5], [4.8], [4.8], [4.8], [4.8], [4.8], [4.3], [4.9], [4.8], [4.7], [4.8], [4.5], [4.6], [4.7], [4.7], [4.8], [4.4], [4.4], [4.4], [4.8], [4.8], [4.8], [4.6], [4.4], [4.5], [4.2], [4.8], [4.8], [4.8], [4.8], [4.8], [4.9], [4.7], [4.7], [4.7], [4.7]], \"domain\": {\"x\": [0.0, 1.0], \"y\": [0.0, 1.0]}, \"hovertemplate\": \"Genre=%{label}<br>User Rating=%{customdata[0]}<extra></extra>\", \"labels\": [\"Non Fiction\", \"Fiction\", \"Non Fiction\", \"Fiction\", \"Non Fiction\", \"Fiction\", \"Fiction\", \"Fiction\", \"Non Fiction\", \"Fiction\", \"Fiction\", \"Non Fiction\", \"Non Fiction\", \"Fiction\", \"Non Fiction\", \"Non Fiction\", \"Non Fiction\", \"Non Fiction\", \"Non Fiction\", \"Non Fiction\", \"Fiction\", \"Fiction\", \"Fiction\", \"Non Fiction\", \"Fiction\", \"Non Fiction\", \"Non Fiction\", \"Non Fiction\", \"Non Fiction\", \"Non Fiction\", \"Non Fiction\", \"Non Fiction\", \"Non Fiction\", \"Non Fiction\", \"Non Fiction\", \"Non Fiction\", \"Non Fiction\", \"Non Fiction\", \"Fiction\", \"Non Fiction\", \"Fiction\", \"Fiction\", \"Fiction\", \"Non Fiction\", \"Non Fiction\", \"Non Fiction\", \"Fiction\", \"Fiction\", \"Fiction\", \"Non Fiction\", \"Non Fiction\", \"Non Fiction\", \"Non Fiction\", \"Fiction\", \"Non Fiction\", \"Non Fiction\", \"Fiction\", \"Fiction\", \"Non Fiction\", \"Non Fiction\", \"Fiction\", \"Fiction\", \"Fiction\", \"Fiction\", \"Fiction\", \"Fiction\", \"Fiction\", \"Non Fiction\", \"Non Fiction\", \"Non Fiction\", \"Non Fiction\", \"Fiction\", \"Fiction\", \"Fiction\", \"Non Fiction\", \"Fiction\", \"Fiction\", \"Fiction\", \"Non Fiction\", \"Fiction\", \"Fiction\", \"Fiction\", \"Fiction\", \"Fiction\", \"Fiction\", \"Fiction\", \"Fiction\", \"Fiction\", \"Fiction\", \"Non Fiction\", \"Non Fiction\", \"Non Fiction\", \"Non Fiction\", \"Non Fiction\", \"Non Fiction\", \"Fiction\", \"Fiction\", \"Non Fiction\", \"Non Fiction\", \"Non Fiction\", \"Fiction\", \"Fiction\", \"Fiction\", \"Non Fiction\", \"Fiction\", \"Fiction\", \"Fiction\", \"Fiction\", \"Fiction\", \"Non Fiction\", \"Non Fiction\", \"Non Fiction\", \"Non Fiction\", \"Non Fiction\", \"Non Fiction\", \"Non Fiction\", \"Fiction\", \"Non Fiction\", \"Fiction\", \"Fiction\", \"Fiction\", \"Non Fiction\", \"Non Fiction\", \"Fiction\", \"Fiction\", \"Fiction\", \"Fiction\", \"Fiction\", \"Non Fiction\", \"Non Fiction\", \"Non Fiction\", \"Non Fiction\", \"Fiction\", \"Fiction\", \"Non Fiction\", \"Fiction\", \"Fiction\", \"Fiction\", \"Non Fiction\", \"Non Fiction\", \"Non Fiction\", \"Non Fiction\", \"Non Fiction\", \"Fiction\", \"Fiction\", \"Fiction\", \"Fiction\", \"Fiction\", \"Non Fiction\", \"Fiction\", \"Non Fiction\", \"Non Fiction\", \"Non Fiction\", \"Fiction\", \"Fiction\", \"Fiction\", \"Fiction\", \"Fiction\", \"Non Fiction\", \"Fiction\", \"Non Fiction\", \"Non Fiction\", \"Non Fiction\", \"Non Fiction\", \"Non Fiction\", \"Non Fiction\", \"Non Fiction\", \"Non Fiction\", \"Non Fiction\", \"Non Fiction\", \"Non Fiction\", \"Non Fiction\", \"Non Fiction\", \"Non Fiction\", \"Non Fiction\", \"Non Fiction\", \"Non Fiction\", \"Fiction\", \"Fiction\", \"Fiction\", \"Fiction\", \"Non Fiction\", \"Fiction\", \"Fiction\", \"Non Fiction\", \"Non Fiction\", \"Non Fiction\", \"Non Fiction\", \"Non Fiction\", \"Non Fiction\", \"Non Fiction\", \"Non Fiction\", \"Non Fiction\", \"Fiction\", \"Fiction\", \"Non Fiction\", \"Non Fiction\", \"Non Fiction\", \"Non Fiction\", \"Non Fiction\", \"Non Fiction\", \"Non Fiction\", \"Non Fiction\", \"Non Fiction\", \"Non Fiction\", \"Non Fiction\", \"Non Fiction\", \"Fiction\", \"Non Fiction\", \"Non Fiction\", \"Non Fiction\", \"Non Fiction\", \"Non Fiction\", \"Non Fiction\", \"Non Fiction\", \"Non Fiction\", \"Non Fiction\", \"Non Fiction\", \"Fiction\", \"Fiction\", \"Fiction\", \"Fiction\", \"Non Fiction\", \"Fiction\", \"Fiction\", \"Non Fiction\", \"Non Fiction\", \"Non Fiction\", \"Non Fiction\", \"Non Fiction\", \"Non Fiction\", \"Non Fiction\", \"Non Fiction\", \"Non Fiction\", \"Non Fiction\", \"Non Fiction\", \"Fiction\", \"Fiction\", \"Fiction\", \"Non Fiction\", \"Non Fiction\", \"Fiction\", \"Non Fiction\", \"Non Fiction\", \"Non Fiction\", \"Fiction\", \"Fiction\", \"Fiction\", \"Fiction\", \"Fiction\", \"Fiction\", \"Fiction\", \"Fiction\", \"Fiction\", \"Fiction\", \"Non Fiction\", \"Non Fiction\", \"Non Fiction\", \"Fiction\", \"Fiction\", \"Non Fiction\", \"Non Fiction\", \"Non Fiction\", \"Non Fiction\", \"Fiction\", \"Fiction\", \"Fiction\", \"Fiction\", \"Fiction\", \"Non Fiction\", \"Non Fiction\", \"Non Fiction\", \"Non Fiction\", \"Non Fiction\", \"Non Fiction\", \"Non Fiction\", \"Non Fiction\", \"Non Fiction\", \"Non Fiction\", \"Non Fiction\", \"Non Fiction\", \"Fiction\", \"Non Fiction\", \"Non Fiction\", \"Non Fiction\", \"Non Fiction\", \"Fiction\", \"Fiction\", \"Fiction\", \"Fiction\", \"Non Fiction\", \"Non Fiction\", \"Fiction\", \"Non Fiction\", \"Non Fiction\", \"Non Fiction\", \"Non Fiction\", \"Non Fiction\", \"Non Fiction\", \"Fiction\", \"Non Fiction\", \"Non Fiction\", \"Non Fiction\", \"Fiction\", \"Non Fiction\", \"Non Fiction\", \"Non Fiction\", \"Non Fiction\", \"Non Fiction\", \"Non Fiction\", \"Non Fiction\", \"Non Fiction\", \"Non Fiction\", \"Non Fiction\", \"Non Fiction\", \"Fiction\", \"Non Fiction\", \"Non Fiction\", \"Non Fiction\", \"Non Fiction\", \"Non Fiction\", \"Non Fiction\", \"Non Fiction\", \"Non Fiction\", \"Non Fiction\", \"Non Fiction\", \"Non Fiction\", \"Non Fiction\", \"Non Fiction\", \"Non Fiction\", \"Non Fiction\", \"Non Fiction\", \"Non Fiction\", \"Non Fiction\", \"Non Fiction\", \"Non Fiction\", \"Non Fiction\", \"Non Fiction\", \"Fiction\", \"Non Fiction\", \"Fiction\", \"Fiction\", \"Non Fiction\", \"Fiction\", \"Non Fiction\", \"Non Fiction\", \"Non Fiction\", \"Fiction\", \"Fiction\", \"Fiction\", \"Fiction\", \"Non Fiction\", \"Non Fiction\", \"Fiction\", \"Non Fiction\", \"Non Fiction\", \"Non Fiction\", \"Fiction\", \"Non Fiction\", \"Non Fiction\", \"Fiction\", \"Fiction\", \"Fiction\", \"Non Fiction\", \"Fiction\", \"Fiction\", \"Fiction\", \"Fiction\", \"Fiction\", \"Non Fiction\", \"Non Fiction\", \"Non Fiction\", \"Non Fiction\", \"Non Fiction\", \"Non Fiction\", \"Non Fiction\", \"Non Fiction\", \"Non Fiction\", \"Non Fiction\", \"Non Fiction\", \"Non Fiction\", \"Fiction\", \"Fiction\", \"Fiction\", \"Fiction\", \"Fiction\", \"Fiction\", \"Fiction\", \"Fiction\", \"Fiction\", \"Fiction\", \"Fiction\", \"Fiction\", \"Fiction\", \"Fiction\", \"Fiction\", \"Fiction\", \"Fiction\", \"Fiction\", \"Fiction\", \"Fiction\", \"Fiction\", \"Fiction\", \"Fiction\", \"Fiction\", \"Fiction\", \"Fiction\", \"Fiction\", \"Fiction\", \"Fiction\", \"Fiction\", \"Fiction\", \"Non Fiction\", \"Non Fiction\", \"Non Fiction\", \"Non Fiction\", \"Non Fiction\", \"Non Fiction\", \"Fiction\", \"Fiction\", \"Fiction\", \"Non Fiction\", \"Non Fiction\", \"Non Fiction\", \"Non Fiction\", \"Non Fiction\", \"Non Fiction\", \"Fiction\", \"Fiction\", \"Fiction\", \"Non Fiction\", \"Non Fiction\", \"Fiction\", \"Fiction\", \"Fiction\", \"Fiction\", \"Non Fiction\", \"Fiction\", \"Fiction\", \"Non Fiction\", \"Non Fiction\", \"Non Fiction\", \"Non Fiction\", \"Non Fiction\", \"Non Fiction\", \"Fiction\", \"Non Fiction\", \"Non Fiction\", \"Non Fiction\", \"Non Fiction\", \"Non Fiction\", \"Fiction\", \"Fiction\", \"Non Fiction\", \"Fiction\", \"Fiction\", \"Fiction\", \"Non Fiction\", \"Fiction\", \"Fiction\", \"Fiction\", \"Fiction\", \"Fiction\", \"Fiction\", \"Non Fiction\", \"Non Fiction\", \"Non Fiction\", \"Non Fiction\", \"Fiction\", \"Fiction\", \"Fiction\", \"Non Fiction\", \"Non Fiction\", \"Fiction\", \"Fiction\", \"Non Fiction\", \"Fiction\", \"Fiction\", \"Fiction\", \"Fiction\", \"Fiction\", \"Fiction\", \"Fiction\", \"Non Fiction\", \"Non Fiction\", \"Non Fiction\", \"Fiction\", \"Fiction\", \"Fiction\", \"Fiction\", \"Fiction\", \"Fiction\", \"Non Fiction\", \"Non Fiction\", \"Non Fiction\", \"Non Fiction\", \"Fiction\", \"Non Fiction\", \"Non Fiction\", \"Non Fiction\", \"Non Fiction\", \"Non Fiction\", \"Non Fiction\", \"Non Fiction\", \"Non Fiction\", \"Fiction\", \"Fiction\", \"Fiction\", \"Fiction\", \"Fiction\", \"Non Fiction\", \"Fiction\", \"Non Fiction\", \"Fiction\", \"Fiction\", \"Non Fiction\", \"Non Fiction\", \"Non Fiction\", \"Non Fiction\", \"Non Fiction\", \"Fiction\", \"Non Fiction\", \"Non Fiction\", \"Non Fiction\", \"Fiction\", \"Fiction\", \"Non Fiction\", \"Non Fiction\", \"Fiction\", \"Fiction\", \"Non Fiction\", \"Non Fiction\", \"Non Fiction\", \"Non Fiction\", \"Fiction\", \"Fiction\", \"Non Fiction\", \"Non Fiction\", \"Fiction\", \"Non Fiction\", \"Fiction\", \"Fiction\", \"Fiction\", \"Fiction\", \"Fiction\", \"Fiction\", \"Non Fiction\", \"Non Fiction\", \"Non Fiction\", \"Non Fiction\"], \"legendgroup\": \"\", \"name\": \"\", \"showlegend\": true, \"textinfo\": \"percent+label\", \"textposition\": \"inside\", \"type\": \"pie\"}],                        {\"legend\": {\"tracegroupgap\": 0}, \"template\": {\"data\": {\"bar\": [{\"error_x\": {\"color\": \"#2a3f5f\"}, \"error_y\": {\"color\": \"#2a3f5f\"}, \"marker\": {\"line\": {\"color\": \"#E5ECF6\", \"width\": 0.5}}, \"type\": \"bar\"}], \"barpolar\": [{\"marker\": {\"line\": {\"color\": \"#E5ECF6\", \"width\": 0.5}}, \"type\": \"barpolar\"}], \"carpet\": [{\"aaxis\": {\"endlinecolor\": \"#2a3f5f\", \"gridcolor\": \"white\", \"linecolor\": \"white\", \"minorgridcolor\": \"white\", \"startlinecolor\": \"#2a3f5f\"}, \"baxis\": {\"endlinecolor\": \"#2a3f5f\", \"gridcolor\": \"white\", \"linecolor\": \"white\", \"minorgridcolor\": \"white\", \"startlinecolor\": \"#2a3f5f\"}, \"type\": \"carpet\"}], \"choropleth\": [{\"colorbar\": {\"outlinewidth\": 0, \"ticks\": \"\"}, \"type\": \"choropleth\"}], \"contour\": [{\"colorbar\": {\"outlinewidth\": 0, \"ticks\": \"\"}, \"colorscale\": [[0.0, \"#0d0887\"], [0.1111111111111111, \"#46039f\"], [0.2222222222222222, \"#7201a8\"], [0.3333333333333333, \"#9c179e\"], [0.4444444444444444, \"#bd3786\"], [0.5555555555555556, \"#d8576b\"], [0.6666666666666666, \"#ed7953\"], [0.7777777777777778, \"#fb9f3a\"], [0.8888888888888888, \"#fdca26\"], [1.0, \"#f0f921\"]], \"type\": \"contour\"}], \"contourcarpet\": [{\"colorbar\": {\"outlinewidth\": 0, \"ticks\": \"\"}, \"type\": \"contourcarpet\"}], \"heatmap\": [{\"colorbar\": {\"outlinewidth\": 0, \"ticks\": \"\"}, \"colorscale\": [[0.0, \"#0d0887\"], [0.1111111111111111, \"#46039f\"], [0.2222222222222222, \"#7201a8\"], [0.3333333333333333, \"#9c179e\"], [0.4444444444444444, \"#bd3786\"], [0.5555555555555556, \"#d8576b\"], [0.6666666666666666, \"#ed7953\"], [0.7777777777777778, \"#fb9f3a\"], [0.8888888888888888, \"#fdca26\"], [1.0, \"#f0f921\"]], \"type\": \"heatmap\"}], \"heatmapgl\": [{\"colorbar\": {\"outlinewidth\": 0, \"ticks\": \"\"}, \"colorscale\": [[0.0, \"#0d0887\"], [0.1111111111111111, \"#46039f\"], [0.2222222222222222, \"#7201a8\"], [0.3333333333333333, \"#9c179e\"], [0.4444444444444444, \"#bd3786\"], [0.5555555555555556, \"#d8576b\"], [0.6666666666666666, \"#ed7953\"], [0.7777777777777778, \"#fb9f3a\"], [0.8888888888888888, \"#fdca26\"], [1.0, \"#f0f921\"]], \"type\": \"heatmapgl\"}], \"histogram\": [{\"marker\": {\"colorbar\": {\"outlinewidth\": 0, \"ticks\": \"\"}}, \"type\": \"histogram\"}], \"histogram2d\": [{\"colorbar\": {\"outlinewidth\": 0, \"ticks\": \"\"}, \"colorscale\": [[0.0, \"#0d0887\"], [0.1111111111111111, \"#46039f\"], [0.2222222222222222, \"#7201a8\"], [0.3333333333333333, \"#9c179e\"], [0.4444444444444444, \"#bd3786\"], [0.5555555555555556, \"#d8576b\"], [0.6666666666666666, \"#ed7953\"], [0.7777777777777778, \"#fb9f3a\"], [0.8888888888888888, \"#fdca26\"], [1.0, \"#f0f921\"]], \"type\": \"histogram2d\"}], \"histogram2dcontour\": [{\"colorbar\": {\"outlinewidth\": 0, \"ticks\": \"\"}, \"colorscale\": [[0.0, \"#0d0887\"], [0.1111111111111111, \"#46039f\"], [0.2222222222222222, \"#7201a8\"], [0.3333333333333333, \"#9c179e\"], [0.4444444444444444, \"#bd3786\"], [0.5555555555555556, \"#d8576b\"], [0.6666666666666666, \"#ed7953\"], [0.7777777777777778, \"#fb9f3a\"], [0.8888888888888888, \"#fdca26\"], [1.0, \"#f0f921\"]], \"type\": \"histogram2dcontour\"}], \"mesh3d\": [{\"colorbar\": {\"outlinewidth\": 0, \"ticks\": \"\"}, \"type\": \"mesh3d\"}], \"parcoords\": [{\"line\": {\"colorbar\": {\"outlinewidth\": 0, \"ticks\": \"\"}}, \"type\": \"parcoords\"}], \"pie\": [{\"automargin\": true, \"type\": \"pie\"}], \"scatter\": [{\"marker\": {\"colorbar\": {\"outlinewidth\": 0, \"ticks\": \"\"}}, \"type\": \"scatter\"}], \"scatter3d\": [{\"line\": {\"colorbar\": {\"outlinewidth\": 0, \"ticks\": \"\"}}, \"marker\": {\"colorbar\": {\"outlinewidth\": 0, \"ticks\": \"\"}}, \"type\": \"scatter3d\"}], \"scattercarpet\": [{\"marker\": {\"colorbar\": {\"outlinewidth\": 0, \"ticks\": \"\"}}, \"type\": \"scattercarpet\"}], \"scattergeo\": [{\"marker\": {\"colorbar\": {\"outlinewidth\": 0, \"ticks\": \"\"}}, \"type\": \"scattergeo\"}], \"scattergl\": [{\"marker\": {\"colorbar\": {\"outlinewidth\": 0, \"ticks\": \"\"}}, \"type\": \"scattergl\"}], \"scattermapbox\": [{\"marker\": {\"colorbar\": {\"outlinewidth\": 0, \"ticks\": \"\"}}, \"type\": \"scattermapbox\"}], \"scatterpolar\": [{\"marker\": {\"colorbar\": {\"outlinewidth\": 0, \"ticks\": \"\"}}, \"type\": \"scatterpolar\"}], \"scatterpolargl\": [{\"marker\": {\"colorbar\": {\"outlinewidth\": 0, \"ticks\": \"\"}}, \"type\": \"scatterpolargl\"}], \"scatterternary\": [{\"marker\": {\"colorbar\": {\"outlinewidth\": 0, \"ticks\": \"\"}}, \"type\": \"scatterternary\"}], \"surface\": [{\"colorbar\": {\"outlinewidth\": 0, \"ticks\": \"\"}, \"colorscale\": [[0.0, \"#0d0887\"], [0.1111111111111111, \"#46039f\"], [0.2222222222222222, \"#7201a8\"], [0.3333333333333333, \"#9c179e\"], [0.4444444444444444, \"#bd3786\"], [0.5555555555555556, \"#d8576b\"], [0.6666666666666666, \"#ed7953\"], [0.7777777777777778, \"#fb9f3a\"], [0.8888888888888888, \"#fdca26\"], [1.0, \"#f0f921\"]], \"type\": \"surface\"}], \"table\": [{\"cells\": {\"fill\": {\"color\": \"#EBF0F8\"}, \"line\": {\"color\": \"white\"}}, \"header\": {\"fill\": {\"color\": \"#C8D4E3\"}, \"line\": {\"color\": \"white\"}}, \"type\": \"table\"}]}, \"layout\": {\"annotationdefaults\": {\"arrowcolor\": \"#2a3f5f\", \"arrowhead\": 0, \"arrowwidth\": 1}, \"autotypenumbers\": \"strict\", \"coloraxis\": {\"colorbar\": {\"outlinewidth\": 0, \"ticks\": \"\"}}, \"colorscale\": {\"diverging\": [[0, \"#8e0152\"], [0.1, \"#c51b7d\"], [0.2, \"#de77ae\"], [0.3, \"#f1b6da\"], [0.4, \"#fde0ef\"], [0.5, \"#f7f7f7\"], [0.6, \"#e6f5d0\"], [0.7, \"#b8e186\"], [0.8, \"#7fbc41\"], [0.9, \"#4d9221\"], [1, \"#276419\"]], \"sequential\": [[0.0, \"#0d0887\"], [0.1111111111111111, \"#46039f\"], [0.2222222222222222, \"#7201a8\"], [0.3333333333333333, \"#9c179e\"], [0.4444444444444444, \"#bd3786\"], [0.5555555555555556, \"#d8576b\"], [0.6666666666666666, \"#ed7953\"], [0.7777777777777778, \"#fb9f3a\"], [0.8888888888888888, \"#fdca26\"], [1.0, \"#f0f921\"]], \"sequentialminus\": [[0.0, \"#0d0887\"], [0.1111111111111111, \"#46039f\"], [0.2222222222222222, \"#7201a8\"], [0.3333333333333333, \"#9c179e\"], [0.4444444444444444, \"#bd3786\"], [0.5555555555555556, \"#d8576b\"], [0.6666666666666666, \"#ed7953\"], [0.7777777777777778, \"#fb9f3a\"], [0.8888888888888888, \"#fdca26\"], [1.0, \"#f0f921\"]]}, \"colorway\": [\"#636efa\", \"#EF553B\", \"#00cc96\", \"#ab63fa\", \"#FFA15A\", \"#19d3f3\", \"#FF6692\", \"#B6E880\", \"#FF97FF\", \"#FECB52\"], \"font\": {\"color\": \"#2a3f5f\"}, \"geo\": {\"bgcolor\": \"white\", \"lakecolor\": \"white\", \"landcolor\": \"#E5ECF6\", \"showlakes\": true, \"showland\": true, \"subunitcolor\": \"white\"}, \"hoverlabel\": {\"align\": \"left\"}, \"hovermode\": \"closest\", \"mapbox\": {\"style\": \"light\"}, \"paper_bgcolor\": \"white\", \"plot_bgcolor\": \"#E5ECF6\", \"polar\": {\"angularaxis\": {\"gridcolor\": \"white\", \"linecolor\": \"white\", \"ticks\": \"\"}, \"bgcolor\": \"#E5ECF6\", \"radialaxis\": {\"gridcolor\": \"white\", \"linecolor\": \"white\", \"ticks\": \"\"}}, \"scene\": {\"xaxis\": {\"backgroundcolor\": \"#E5ECF6\", \"gridcolor\": \"white\", \"gridwidth\": 2, \"linecolor\": \"white\", \"showbackground\": true, \"ticks\": \"\", \"zerolinecolor\": \"white\"}, \"yaxis\": {\"backgroundcolor\": \"#E5ECF6\", \"gridcolor\": \"white\", \"gridwidth\": 2, \"linecolor\": \"white\", \"showbackground\": true, \"ticks\": \"\", \"zerolinecolor\": \"white\"}, \"zaxis\": {\"backgroundcolor\": \"#E5ECF6\", \"gridcolor\": \"white\", \"gridwidth\": 2, \"linecolor\": \"white\", \"showbackground\": true, \"ticks\": \"\", \"zerolinecolor\": \"white\"}}, \"shapedefaults\": {\"line\": {\"color\": \"#2a3f5f\"}}, \"ternary\": {\"aaxis\": {\"gridcolor\": \"white\", \"linecolor\": \"white\", \"ticks\": \"\"}, \"baxis\": {\"gridcolor\": \"white\", \"linecolor\": \"white\", \"ticks\": \"\"}, \"bgcolor\": \"#E5ECF6\", \"caxis\": {\"gridcolor\": \"white\", \"linecolor\": \"white\", \"ticks\": \"\"}}, \"title\": {\"x\": 0.05}, \"xaxis\": {\"automargin\": true, \"gridcolor\": \"white\", \"linecolor\": \"white\", \"ticks\": \"\", \"title\": {\"standoff\": 15}, \"zerolinecolor\": \"white\", \"zerolinewidth\": 2}, \"yaxis\": {\"automargin\": true, \"gridcolor\": \"white\", \"linecolor\": \"white\", \"ticks\": \"\", \"title\": {\"standoff\": 15}, \"zerolinecolor\": \"white\", \"zerolinewidth\": 2}}}, \"title\": {\"text\": \"Genre Pie Chart\"}},                        {\"responsive\": true}                    ).then(function(){\n",
       "                            \n",
       "var gd = document.getElementById('28ac88fe-c656-4671-88a1-9dcf83efe5a4');\n",
       "var x = new MutationObserver(function (mutations, observer) {{\n",
       "        var display = window.getComputedStyle(gd).display;\n",
       "        if (!display || display === 'none') {{\n",
       "            console.log([gd, 'removed!']);\n",
       "            Plotly.purge(gd);\n",
       "            observer.disconnect();\n",
       "        }}\n",
       "}});\n",
       "\n",
       "// Listen for the removal of the full notebook cells\n",
       "var notebookContainer = gd.closest('#notebook-container');\n",
       "if (notebookContainer) {{\n",
       "    x.observe(notebookContainer, {childList: true});\n",
       "}}\n",
       "\n",
       "// Listen for the clearing of the current output cell\n",
       "var outputEl = gd.closest('.output');\n",
       "if (outputEl) {{\n",
       "    x.observe(outputEl, {childList: true});\n",
       "}}\n",
       "\n",
       "                        })                };                });            </script>        </div>"
      ]
     },
     "metadata": {},
     "output_type": "display_data"
    }
   ],
   "source": [
    "fig = px.pie(data,names = 'Genre',hover_data = ['User Rating'],title='Genre Pie Chart')\n",
    "fig.update_traces(textposition = 'inside',textinfo='percent+label')\n",
    "fig.show()"
   ]
  },
  {
   "cell_type": "markdown",
   "metadata": {},
   "source": [
    "## Sunburst 다중 레벨의 pie chart"
   ]
  },
  {
   "cell_type": "code",
   "execution_count": 12,
   "metadata": {},
   "outputs": [
    {
     "data": {
      "application/vnd.plotly.v1+json": {
       "config": {
        "plotlyServerURL": "https://plot.ly"
       },
       "data": [
        {
         "branchvalues": "total",
         "domain": {
          "x": [
           0,
           1
          ],
          "y": [
           0,
           1
          ]
         },
         "hovertemplate": "labels=%{label}<br>Reviews=%{value}<br>parent=%{parent}<br>id=%{id}<extra></extra>",
         "ids": [
          "Fiction/2009",
          "Non Fiction/2009",
          "Fiction/2010",
          "Non Fiction/2010",
          "Fiction/2011",
          "Non Fiction/2011",
          "Fiction/2012",
          "Non Fiction/2012",
          "Fiction/2013",
          "Non Fiction/2013",
          "Fiction/2014",
          "Non Fiction/2014",
          "Fiction/2015",
          "Non Fiction/2015",
          "Fiction/2016",
          "Non Fiction/2016",
          "Fiction/2017",
          "Non Fiction/2017",
          "Fiction/2018",
          "Non Fiction/2018",
          "Fiction/2019",
          "Non Fiction/2019",
          "Fiction",
          "Non Fiction"
         ],
         "labels": [
          "2009",
          "2009",
          "2010",
          "2010",
          "2011",
          "2011",
          "2012",
          "2012",
          "2013",
          "2013",
          "2014",
          "2014",
          "2015",
          "2015",
          "2016",
          "2016",
          "2017",
          "2017",
          "2018",
          "2018",
          "2019",
          "2019",
          "Fiction",
          "Non Fiction"
         ],
         "name": "",
         "parents": [
          "Fiction",
          "Non Fiction",
          "Fiction",
          "Non Fiction",
          "Fiction",
          "Non Fiction",
          "Fiction",
          "Non Fiction",
          "Fiction",
          "Non Fiction",
          "Fiction",
          "Non Fiction",
          "Fiction",
          "Non Fiction",
          "Fiction",
          "Non Fiction",
          "Fiction",
          "Non Fiction",
          "Fiction",
          "Non Fiction",
          "Fiction",
          "Non Fiction",
          "",
          ""
         ],
         "type": "sunburst",
         "values": [
          156824,
          78682,
          168185,
          105796,
          217041,
          188000,
          417821,
          236725,
          479684,
          175223,
          562103,
          230894,
          403004,
          308665,
          371702,
          338098,
          350684,
          293736,
          266919,
          429602,
          370143,
          424774,
          3764110,
          2810195
         ]
        }
       ],
       "layout": {
        "legend": {
         "tracegroupgap": 0
        },
        "margin": {
         "t": 60
        },
        "template": {
         "data": {
          "bar": [
           {
            "error_x": {
             "color": "#2a3f5f"
            },
            "error_y": {
             "color": "#2a3f5f"
            },
            "marker": {
             "line": {
              "color": "#E5ECF6",
              "width": 0.5
             }
            },
            "type": "bar"
           }
          ],
          "barpolar": [
           {
            "marker": {
             "line": {
              "color": "#E5ECF6",
              "width": 0.5
             }
            },
            "type": "barpolar"
           }
          ],
          "carpet": [
           {
            "aaxis": {
             "endlinecolor": "#2a3f5f",
             "gridcolor": "white",
             "linecolor": "white",
             "minorgridcolor": "white",
             "startlinecolor": "#2a3f5f"
            },
            "baxis": {
             "endlinecolor": "#2a3f5f",
             "gridcolor": "white",
             "linecolor": "white",
             "minorgridcolor": "white",
             "startlinecolor": "#2a3f5f"
            },
            "type": "carpet"
           }
          ],
          "choropleth": [
           {
            "colorbar": {
             "outlinewidth": 0,
             "ticks": ""
            },
            "type": "choropleth"
           }
          ],
          "contour": [
           {
            "colorbar": {
             "outlinewidth": 0,
             "ticks": ""
            },
            "colorscale": [
             [
              0,
              "#0d0887"
             ],
             [
              0.1111111111111111,
              "#46039f"
             ],
             [
              0.2222222222222222,
              "#7201a8"
             ],
             [
              0.3333333333333333,
              "#9c179e"
             ],
             [
              0.4444444444444444,
              "#bd3786"
             ],
             [
              0.5555555555555556,
              "#d8576b"
             ],
             [
              0.6666666666666666,
              "#ed7953"
             ],
             [
              0.7777777777777778,
              "#fb9f3a"
             ],
             [
              0.8888888888888888,
              "#fdca26"
             ],
             [
              1,
              "#f0f921"
             ]
            ],
            "type": "contour"
           }
          ],
          "contourcarpet": [
           {
            "colorbar": {
             "outlinewidth": 0,
             "ticks": ""
            },
            "type": "contourcarpet"
           }
          ],
          "heatmap": [
           {
            "colorbar": {
             "outlinewidth": 0,
             "ticks": ""
            },
            "colorscale": [
             [
              0,
              "#0d0887"
             ],
             [
              0.1111111111111111,
              "#46039f"
             ],
             [
              0.2222222222222222,
              "#7201a8"
             ],
             [
              0.3333333333333333,
              "#9c179e"
             ],
             [
              0.4444444444444444,
              "#bd3786"
             ],
             [
              0.5555555555555556,
              "#d8576b"
             ],
             [
              0.6666666666666666,
              "#ed7953"
             ],
             [
              0.7777777777777778,
              "#fb9f3a"
             ],
             [
              0.8888888888888888,
              "#fdca26"
             ],
             [
              1,
              "#f0f921"
             ]
            ],
            "type": "heatmap"
           }
          ],
          "heatmapgl": [
           {
            "colorbar": {
             "outlinewidth": 0,
             "ticks": ""
            },
            "colorscale": [
             [
              0,
              "#0d0887"
             ],
             [
              0.1111111111111111,
              "#46039f"
             ],
             [
              0.2222222222222222,
              "#7201a8"
             ],
             [
              0.3333333333333333,
              "#9c179e"
             ],
             [
              0.4444444444444444,
              "#bd3786"
             ],
             [
              0.5555555555555556,
              "#d8576b"
             ],
             [
              0.6666666666666666,
              "#ed7953"
             ],
             [
              0.7777777777777778,
              "#fb9f3a"
             ],
             [
              0.8888888888888888,
              "#fdca26"
             ],
             [
              1,
              "#f0f921"
             ]
            ],
            "type": "heatmapgl"
           }
          ],
          "histogram": [
           {
            "marker": {
             "colorbar": {
              "outlinewidth": 0,
              "ticks": ""
             }
            },
            "type": "histogram"
           }
          ],
          "histogram2d": [
           {
            "colorbar": {
             "outlinewidth": 0,
             "ticks": ""
            },
            "colorscale": [
             [
              0,
              "#0d0887"
             ],
             [
              0.1111111111111111,
              "#46039f"
             ],
             [
              0.2222222222222222,
              "#7201a8"
             ],
             [
              0.3333333333333333,
              "#9c179e"
             ],
             [
              0.4444444444444444,
              "#bd3786"
             ],
             [
              0.5555555555555556,
              "#d8576b"
             ],
             [
              0.6666666666666666,
              "#ed7953"
             ],
             [
              0.7777777777777778,
              "#fb9f3a"
             ],
             [
              0.8888888888888888,
              "#fdca26"
             ],
             [
              1,
              "#f0f921"
             ]
            ],
            "type": "histogram2d"
           }
          ],
          "histogram2dcontour": [
           {
            "colorbar": {
             "outlinewidth": 0,
             "ticks": ""
            },
            "colorscale": [
             [
              0,
              "#0d0887"
             ],
             [
              0.1111111111111111,
              "#46039f"
             ],
             [
              0.2222222222222222,
              "#7201a8"
             ],
             [
              0.3333333333333333,
              "#9c179e"
             ],
             [
              0.4444444444444444,
              "#bd3786"
             ],
             [
              0.5555555555555556,
              "#d8576b"
             ],
             [
              0.6666666666666666,
              "#ed7953"
             ],
             [
              0.7777777777777778,
              "#fb9f3a"
             ],
             [
              0.8888888888888888,
              "#fdca26"
             ],
             [
              1,
              "#f0f921"
             ]
            ],
            "type": "histogram2dcontour"
           }
          ],
          "mesh3d": [
           {
            "colorbar": {
             "outlinewidth": 0,
             "ticks": ""
            },
            "type": "mesh3d"
           }
          ],
          "parcoords": [
           {
            "line": {
             "colorbar": {
              "outlinewidth": 0,
              "ticks": ""
             }
            },
            "type": "parcoords"
           }
          ],
          "pie": [
           {
            "automargin": true,
            "type": "pie"
           }
          ],
          "scatter": [
           {
            "marker": {
             "colorbar": {
              "outlinewidth": 0,
              "ticks": ""
             }
            },
            "type": "scatter"
           }
          ],
          "scatter3d": [
           {
            "line": {
             "colorbar": {
              "outlinewidth": 0,
              "ticks": ""
             }
            },
            "marker": {
             "colorbar": {
              "outlinewidth": 0,
              "ticks": ""
             }
            },
            "type": "scatter3d"
           }
          ],
          "scattercarpet": [
           {
            "marker": {
             "colorbar": {
              "outlinewidth": 0,
              "ticks": ""
             }
            },
            "type": "scattercarpet"
           }
          ],
          "scattergeo": [
           {
            "marker": {
             "colorbar": {
              "outlinewidth": 0,
              "ticks": ""
             }
            },
            "type": "scattergeo"
           }
          ],
          "scattergl": [
           {
            "marker": {
             "colorbar": {
              "outlinewidth": 0,
              "ticks": ""
             }
            },
            "type": "scattergl"
           }
          ],
          "scattermapbox": [
           {
            "marker": {
             "colorbar": {
              "outlinewidth": 0,
              "ticks": ""
             }
            },
            "type": "scattermapbox"
           }
          ],
          "scatterpolar": [
           {
            "marker": {
             "colorbar": {
              "outlinewidth": 0,
              "ticks": ""
             }
            },
            "type": "scatterpolar"
           }
          ],
          "scatterpolargl": [
           {
            "marker": {
             "colorbar": {
              "outlinewidth": 0,
              "ticks": ""
             }
            },
            "type": "scatterpolargl"
           }
          ],
          "scatterternary": [
           {
            "marker": {
             "colorbar": {
              "outlinewidth": 0,
              "ticks": ""
             }
            },
            "type": "scatterternary"
           }
          ],
          "surface": [
           {
            "colorbar": {
             "outlinewidth": 0,
             "ticks": ""
            },
            "colorscale": [
             [
              0,
              "#0d0887"
             ],
             [
              0.1111111111111111,
              "#46039f"
             ],
             [
              0.2222222222222222,
              "#7201a8"
             ],
             [
              0.3333333333333333,
              "#9c179e"
             ],
             [
              0.4444444444444444,
              "#bd3786"
             ],
             [
              0.5555555555555556,
              "#d8576b"
             ],
             [
              0.6666666666666666,
              "#ed7953"
             ],
             [
              0.7777777777777778,
              "#fb9f3a"
             ],
             [
              0.8888888888888888,
              "#fdca26"
             ],
             [
              1,
              "#f0f921"
             ]
            ],
            "type": "surface"
           }
          ],
          "table": [
           {
            "cells": {
             "fill": {
              "color": "#EBF0F8"
             },
             "line": {
              "color": "white"
             }
            },
            "header": {
             "fill": {
              "color": "#C8D4E3"
             },
             "line": {
              "color": "white"
             }
            },
            "type": "table"
           }
          ]
         },
         "layout": {
          "annotationdefaults": {
           "arrowcolor": "#2a3f5f",
           "arrowhead": 0,
           "arrowwidth": 1
          },
          "autotypenumbers": "strict",
          "coloraxis": {
           "colorbar": {
            "outlinewidth": 0,
            "ticks": ""
           }
          },
          "colorscale": {
           "diverging": [
            [
             0,
             "#8e0152"
            ],
            [
             0.1,
             "#c51b7d"
            ],
            [
             0.2,
             "#de77ae"
            ],
            [
             0.3,
             "#f1b6da"
            ],
            [
             0.4,
             "#fde0ef"
            ],
            [
             0.5,
             "#f7f7f7"
            ],
            [
             0.6,
             "#e6f5d0"
            ],
            [
             0.7,
             "#b8e186"
            ],
            [
             0.8,
             "#7fbc41"
            ],
            [
             0.9,
             "#4d9221"
            ],
            [
             1,
             "#276419"
            ]
           ],
           "sequential": [
            [
             0,
             "#0d0887"
            ],
            [
             0.1111111111111111,
             "#46039f"
            ],
            [
             0.2222222222222222,
             "#7201a8"
            ],
            [
             0.3333333333333333,
             "#9c179e"
            ],
            [
             0.4444444444444444,
             "#bd3786"
            ],
            [
             0.5555555555555556,
             "#d8576b"
            ],
            [
             0.6666666666666666,
             "#ed7953"
            ],
            [
             0.7777777777777778,
             "#fb9f3a"
            ],
            [
             0.8888888888888888,
             "#fdca26"
            ],
            [
             1,
             "#f0f921"
            ]
           ],
           "sequentialminus": [
            [
             0,
             "#0d0887"
            ],
            [
             0.1111111111111111,
             "#46039f"
            ],
            [
             0.2222222222222222,
             "#7201a8"
            ],
            [
             0.3333333333333333,
             "#9c179e"
            ],
            [
             0.4444444444444444,
             "#bd3786"
            ],
            [
             0.5555555555555556,
             "#d8576b"
            ],
            [
             0.6666666666666666,
             "#ed7953"
            ],
            [
             0.7777777777777778,
             "#fb9f3a"
            ],
            [
             0.8888888888888888,
             "#fdca26"
            ],
            [
             1,
             "#f0f921"
            ]
           ]
          },
          "colorway": [
           "#636efa",
           "#EF553B",
           "#00cc96",
           "#ab63fa",
           "#FFA15A",
           "#19d3f3",
           "#FF6692",
           "#B6E880",
           "#FF97FF",
           "#FECB52"
          ],
          "font": {
           "color": "#2a3f5f"
          },
          "geo": {
           "bgcolor": "white",
           "lakecolor": "white",
           "landcolor": "#E5ECF6",
           "showlakes": true,
           "showland": true,
           "subunitcolor": "white"
          },
          "hoverlabel": {
           "align": "left"
          },
          "hovermode": "closest",
          "mapbox": {
           "style": "light"
          },
          "paper_bgcolor": "white",
          "plot_bgcolor": "#E5ECF6",
          "polar": {
           "angularaxis": {
            "gridcolor": "white",
            "linecolor": "white",
            "ticks": ""
           },
           "bgcolor": "#E5ECF6",
           "radialaxis": {
            "gridcolor": "white",
            "linecolor": "white",
            "ticks": ""
           }
          },
          "scene": {
           "xaxis": {
            "backgroundcolor": "#E5ECF6",
            "gridcolor": "white",
            "gridwidth": 2,
            "linecolor": "white",
            "showbackground": true,
            "ticks": "",
            "zerolinecolor": "white"
           },
           "yaxis": {
            "backgroundcolor": "#E5ECF6",
            "gridcolor": "white",
            "gridwidth": 2,
            "linecolor": "white",
            "showbackground": true,
            "ticks": "",
            "zerolinecolor": "white"
           },
           "zaxis": {
            "backgroundcolor": "#E5ECF6",
            "gridcolor": "white",
            "gridwidth": 2,
            "linecolor": "white",
            "showbackground": true,
            "ticks": "",
            "zerolinecolor": "white"
           }
          },
          "shapedefaults": {
           "line": {
            "color": "#2a3f5f"
           }
          },
          "ternary": {
           "aaxis": {
            "gridcolor": "white",
            "linecolor": "white",
            "ticks": ""
           },
           "baxis": {
            "gridcolor": "white",
            "linecolor": "white",
            "ticks": ""
           },
           "bgcolor": "#E5ECF6",
           "caxis": {
            "gridcolor": "white",
            "linecolor": "white",
            "ticks": ""
           }
          },
          "title": {
           "x": 0.05
          },
          "xaxis": {
           "automargin": true,
           "gridcolor": "white",
           "linecolor": "white",
           "ticks": "",
           "title": {
            "standoff": 15
           },
           "zerolinecolor": "white",
           "zerolinewidth": 2
          },
          "yaxis": {
           "automargin": true,
           "gridcolor": "white",
           "linecolor": "white",
           "ticks": "",
           "title": {
            "standoff": 15
           },
           "zerolinecolor": "white",
           "zerolinewidth": 2
          }
         }
        },
        "title": {
         "text": "Sunburst Graph"
        }
       }
      },
      "text/html": [
       "<div>                            <div id=\"d5a5b6fa-8335-4406-8f74-d1506f18b7fa\" class=\"plotly-graph-div\" style=\"height:525px; width:100%;\"></div>            <script type=\"text/javascript\">                require([\"plotly\"], function(Plotly) {                    window.PLOTLYENV=window.PLOTLYENV || {};                                    if (document.getElementById(\"d5a5b6fa-8335-4406-8f74-d1506f18b7fa\")) {                    Plotly.newPlot(                        \"d5a5b6fa-8335-4406-8f74-d1506f18b7fa\",                        [{\"branchvalues\": \"total\", \"domain\": {\"x\": [0.0, 1.0], \"y\": [0.0, 1.0]}, \"hovertemplate\": \"labels=%{label}<br>Reviews=%{value}<br>parent=%{parent}<br>id=%{id}<extra></extra>\", \"ids\": [\"Fiction/2009\", \"Non Fiction/2009\", \"Fiction/2010\", \"Non Fiction/2010\", \"Fiction/2011\", \"Non Fiction/2011\", \"Fiction/2012\", \"Non Fiction/2012\", \"Fiction/2013\", \"Non Fiction/2013\", \"Fiction/2014\", \"Non Fiction/2014\", \"Fiction/2015\", \"Non Fiction/2015\", \"Fiction/2016\", \"Non Fiction/2016\", \"Fiction/2017\", \"Non Fiction/2017\", \"Fiction/2018\", \"Non Fiction/2018\", \"Fiction/2019\", \"Non Fiction/2019\", \"Fiction\", \"Non Fiction\"], \"labels\": [\"2009\", \"2009\", \"2010\", \"2010\", \"2011\", \"2011\", \"2012\", \"2012\", \"2013\", \"2013\", \"2014\", \"2014\", \"2015\", \"2015\", \"2016\", \"2016\", \"2017\", \"2017\", \"2018\", \"2018\", \"2019\", \"2019\", \"Fiction\", \"Non Fiction\"], \"name\": \"\", \"parents\": [\"Fiction\", \"Non Fiction\", \"Fiction\", \"Non Fiction\", \"Fiction\", \"Non Fiction\", \"Fiction\", \"Non Fiction\", \"Fiction\", \"Non Fiction\", \"Fiction\", \"Non Fiction\", \"Fiction\", \"Non Fiction\", \"Fiction\", \"Non Fiction\", \"Fiction\", \"Non Fiction\", \"Fiction\", \"Non Fiction\", \"Fiction\", \"Non Fiction\", \"\", \"\"], \"type\": \"sunburst\", \"values\": [156824, 78682, 168185, 105796, 217041, 188000, 417821, 236725, 479684, 175223, 562103, 230894, 403004, 308665, 371702, 338098, 350684, 293736, 266919, 429602, 370143, 424774, 3764110, 2810195]}],                        {\"legend\": {\"tracegroupgap\": 0}, \"margin\": {\"t\": 60}, \"template\": {\"data\": {\"bar\": [{\"error_x\": {\"color\": \"#2a3f5f\"}, \"error_y\": {\"color\": \"#2a3f5f\"}, \"marker\": {\"line\": {\"color\": \"#E5ECF6\", \"width\": 0.5}}, \"type\": \"bar\"}], \"barpolar\": [{\"marker\": {\"line\": {\"color\": \"#E5ECF6\", \"width\": 0.5}}, \"type\": \"barpolar\"}], \"carpet\": [{\"aaxis\": {\"endlinecolor\": \"#2a3f5f\", \"gridcolor\": \"white\", \"linecolor\": \"white\", \"minorgridcolor\": \"white\", \"startlinecolor\": \"#2a3f5f\"}, \"baxis\": {\"endlinecolor\": \"#2a3f5f\", \"gridcolor\": \"white\", \"linecolor\": \"white\", \"minorgridcolor\": \"white\", \"startlinecolor\": \"#2a3f5f\"}, \"type\": \"carpet\"}], \"choropleth\": [{\"colorbar\": {\"outlinewidth\": 0, \"ticks\": \"\"}, \"type\": \"choropleth\"}], \"contour\": [{\"colorbar\": {\"outlinewidth\": 0, \"ticks\": \"\"}, \"colorscale\": [[0.0, \"#0d0887\"], [0.1111111111111111, \"#46039f\"], [0.2222222222222222, \"#7201a8\"], [0.3333333333333333, \"#9c179e\"], [0.4444444444444444, \"#bd3786\"], [0.5555555555555556, \"#d8576b\"], [0.6666666666666666, \"#ed7953\"], [0.7777777777777778, \"#fb9f3a\"], [0.8888888888888888, \"#fdca26\"], [1.0, \"#f0f921\"]], \"type\": \"contour\"}], \"contourcarpet\": [{\"colorbar\": {\"outlinewidth\": 0, \"ticks\": \"\"}, \"type\": \"contourcarpet\"}], \"heatmap\": [{\"colorbar\": {\"outlinewidth\": 0, \"ticks\": \"\"}, \"colorscale\": [[0.0, \"#0d0887\"], [0.1111111111111111, \"#46039f\"], [0.2222222222222222, \"#7201a8\"], [0.3333333333333333, \"#9c179e\"], [0.4444444444444444, \"#bd3786\"], [0.5555555555555556, \"#d8576b\"], [0.6666666666666666, \"#ed7953\"], [0.7777777777777778, \"#fb9f3a\"], [0.8888888888888888, \"#fdca26\"], [1.0, \"#f0f921\"]], \"type\": \"heatmap\"}], \"heatmapgl\": [{\"colorbar\": {\"outlinewidth\": 0, \"ticks\": \"\"}, \"colorscale\": [[0.0, \"#0d0887\"], [0.1111111111111111, \"#46039f\"], [0.2222222222222222, \"#7201a8\"], [0.3333333333333333, \"#9c179e\"], [0.4444444444444444, \"#bd3786\"], [0.5555555555555556, \"#d8576b\"], [0.6666666666666666, \"#ed7953\"], [0.7777777777777778, \"#fb9f3a\"], [0.8888888888888888, \"#fdca26\"], [1.0, \"#f0f921\"]], \"type\": \"heatmapgl\"}], \"histogram\": [{\"marker\": {\"colorbar\": {\"outlinewidth\": 0, \"ticks\": \"\"}}, \"type\": \"histogram\"}], \"histogram2d\": [{\"colorbar\": {\"outlinewidth\": 0, \"ticks\": \"\"}, \"colorscale\": [[0.0, \"#0d0887\"], [0.1111111111111111, \"#46039f\"], [0.2222222222222222, \"#7201a8\"], [0.3333333333333333, \"#9c179e\"], [0.4444444444444444, \"#bd3786\"], [0.5555555555555556, \"#d8576b\"], [0.6666666666666666, \"#ed7953\"], [0.7777777777777778, \"#fb9f3a\"], [0.8888888888888888, \"#fdca26\"], [1.0, \"#f0f921\"]], \"type\": \"histogram2d\"}], \"histogram2dcontour\": [{\"colorbar\": {\"outlinewidth\": 0, \"ticks\": \"\"}, \"colorscale\": [[0.0, \"#0d0887\"], [0.1111111111111111, \"#46039f\"], [0.2222222222222222, \"#7201a8\"], [0.3333333333333333, \"#9c179e\"], [0.4444444444444444, \"#bd3786\"], [0.5555555555555556, \"#d8576b\"], [0.6666666666666666, \"#ed7953\"], [0.7777777777777778, \"#fb9f3a\"], [0.8888888888888888, \"#fdca26\"], [1.0, \"#f0f921\"]], \"type\": \"histogram2dcontour\"}], \"mesh3d\": [{\"colorbar\": {\"outlinewidth\": 0, \"ticks\": \"\"}, \"type\": \"mesh3d\"}], \"parcoords\": [{\"line\": {\"colorbar\": {\"outlinewidth\": 0, \"ticks\": \"\"}}, \"type\": \"parcoords\"}], \"pie\": [{\"automargin\": true, \"type\": \"pie\"}], \"scatter\": [{\"marker\": {\"colorbar\": {\"outlinewidth\": 0, \"ticks\": \"\"}}, \"type\": \"scatter\"}], \"scatter3d\": [{\"line\": {\"colorbar\": {\"outlinewidth\": 0, \"ticks\": \"\"}}, \"marker\": {\"colorbar\": {\"outlinewidth\": 0, \"ticks\": \"\"}}, \"type\": \"scatter3d\"}], \"scattercarpet\": [{\"marker\": {\"colorbar\": {\"outlinewidth\": 0, \"ticks\": \"\"}}, \"type\": \"scattercarpet\"}], \"scattergeo\": [{\"marker\": {\"colorbar\": {\"outlinewidth\": 0, \"ticks\": \"\"}}, \"type\": \"scattergeo\"}], \"scattergl\": [{\"marker\": {\"colorbar\": {\"outlinewidth\": 0, \"ticks\": \"\"}}, \"type\": \"scattergl\"}], \"scattermapbox\": [{\"marker\": {\"colorbar\": {\"outlinewidth\": 0, \"ticks\": \"\"}}, \"type\": \"scattermapbox\"}], \"scatterpolar\": [{\"marker\": {\"colorbar\": {\"outlinewidth\": 0, \"ticks\": \"\"}}, \"type\": \"scatterpolar\"}], \"scatterpolargl\": [{\"marker\": {\"colorbar\": {\"outlinewidth\": 0, \"ticks\": \"\"}}, \"type\": \"scatterpolargl\"}], \"scatterternary\": [{\"marker\": {\"colorbar\": {\"outlinewidth\": 0, \"ticks\": \"\"}}, \"type\": \"scatterternary\"}], \"surface\": [{\"colorbar\": {\"outlinewidth\": 0, \"ticks\": \"\"}, \"colorscale\": [[0.0, \"#0d0887\"], [0.1111111111111111, \"#46039f\"], [0.2222222222222222, \"#7201a8\"], [0.3333333333333333, \"#9c179e\"], [0.4444444444444444, \"#bd3786\"], [0.5555555555555556, \"#d8576b\"], [0.6666666666666666, \"#ed7953\"], [0.7777777777777778, \"#fb9f3a\"], [0.8888888888888888, \"#fdca26\"], [1.0, \"#f0f921\"]], \"type\": \"surface\"}], \"table\": [{\"cells\": {\"fill\": {\"color\": \"#EBF0F8\"}, \"line\": {\"color\": \"white\"}}, \"header\": {\"fill\": {\"color\": \"#C8D4E3\"}, \"line\": {\"color\": \"white\"}}, \"type\": \"table\"}]}, \"layout\": {\"annotationdefaults\": {\"arrowcolor\": \"#2a3f5f\", \"arrowhead\": 0, \"arrowwidth\": 1}, \"autotypenumbers\": \"strict\", \"coloraxis\": {\"colorbar\": {\"outlinewidth\": 0, \"ticks\": \"\"}}, \"colorscale\": {\"diverging\": [[0, \"#8e0152\"], [0.1, \"#c51b7d\"], [0.2, \"#de77ae\"], [0.3, \"#f1b6da\"], [0.4, \"#fde0ef\"], [0.5, \"#f7f7f7\"], [0.6, \"#e6f5d0\"], [0.7, \"#b8e186\"], [0.8, \"#7fbc41\"], [0.9, \"#4d9221\"], [1, \"#276419\"]], \"sequential\": [[0.0, \"#0d0887\"], [0.1111111111111111, \"#46039f\"], [0.2222222222222222, \"#7201a8\"], [0.3333333333333333, \"#9c179e\"], [0.4444444444444444, \"#bd3786\"], [0.5555555555555556, \"#d8576b\"], [0.6666666666666666, \"#ed7953\"], [0.7777777777777778, \"#fb9f3a\"], [0.8888888888888888, \"#fdca26\"], [1.0, \"#f0f921\"]], \"sequentialminus\": [[0.0, \"#0d0887\"], [0.1111111111111111, \"#46039f\"], [0.2222222222222222, \"#7201a8\"], [0.3333333333333333, \"#9c179e\"], [0.4444444444444444, \"#bd3786\"], [0.5555555555555556, \"#d8576b\"], [0.6666666666666666, \"#ed7953\"], [0.7777777777777778, \"#fb9f3a\"], [0.8888888888888888, \"#fdca26\"], [1.0, \"#f0f921\"]]}, \"colorway\": [\"#636efa\", \"#EF553B\", \"#00cc96\", \"#ab63fa\", \"#FFA15A\", \"#19d3f3\", \"#FF6692\", \"#B6E880\", \"#FF97FF\", \"#FECB52\"], \"font\": {\"color\": \"#2a3f5f\"}, \"geo\": {\"bgcolor\": \"white\", \"lakecolor\": \"white\", \"landcolor\": \"#E5ECF6\", \"showlakes\": true, \"showland\": true, \"subunitcolor\": \"white\"}, \"hoverlabel\": {\"align\": \"left\"}, \"hovermode\": \"closest\", \"mapbox\": {\"style\": \"light\"}, \"paper_bgcolor\": \"white\", \"plot_bgcolor\": \"#E5ECF6\", \"polar\": {\"angularaxis\": {\"gridcolor\": \"white\", \"linecolor\": \"white\", \"ticks\": \"\"}, \"bgcolor\": \"#E5ECF6\", \"radialaxis\": {\"gridcolor\": \"white\", \"linecolor\": \"white\", \"ticks\": \"\"}}, \"scene\": {\"xaxis\": {\"backgroundcolor\": \"#E5ECF6\", \"gridcolor\": \"white\", \"gridwidth\": 2, \"linecolor\": \"white\", \"showbackground\": true, \"ticks\": \"\", \"zerolinecolor\": \"white\"}, \"yaxis\": {\"backgroundcolor\": \"#E5ECF6\", \"gridcolor\": \"white\", \"gridwidth\": 2, \"linecolor\": \"white\", \"showbackground\": true, \"ticks\": \"\", \"zerolinecolor\": \"white\"}, \"zaxis\": {\"backgroundcolor\": \"#E5ECF6\", \"gridcolor\": \"white\", \"gridwidth\": 2, \"linecolor\": \"white\", \"showbackground\": true, \"ticks\": \"\", \"zerolinecolor\": \"white\"}}, \"shapedefaults\": {\"line\": {\"color\": \"#2a3f5f\"}}, \"ternary\": {\"aaxis\": {\"gridcolor\": \"white\", \"linecolor\": \"white\", \"ticks\": \"\"}, \"baxis\": {\"gridcolor\": \"white\", \"linecolor\": \"white\", \"ticks\": \"\"}, \"bgcolor\": \"#E5ECF6\", \"caxis\": {\"gridcolor\": \"white\", \"linecolor\": \"white\", \"ticks\": \"\"}}, \"title\": {\"x\": 0.05}, \"xaxis\": {\"automargin\": true, \"gridcolor\": \"white\", \"linecolor\": \"white\", \"ticks\": \"\", \"title\": {\"standoff\": 15}, \"zerolinecolor\": \"white\", \"zerolinewidth\": 2}, \"yaxis\": {\"automargin\": true, \"gridcolor\": \"white\", \"linecolor\": \"white\", \"ticks\": \"\", \"title\": {\"standoff\": 15}, \"zerolinecolor\": \"white\", \"zerolinewidth\": 2}}}, \"title\": {\"text\": \"Sunburst Graph\"}},                        {\"responsive\": true}                    ).then(function(){\n",
       "                            \n",
       "var gd = document.getElementById('d5a5b6fa-8335-4406-8f74-d1506f18b7fa');\n",
       "var x = new MutationObserver(function (mutations, observer) {{\n",
       "        var display = window.getComputedStyle(gd).display;\n",
       "        if (!display || display === 'none') {{\n",
       "            console.log([gd, 'removed!']);\n",
       "            Plotly.purge(gd);\n",
       "            observer.disconnect();\n",
       "        }}\n",
       "}});\n",
       "\n",
       "// Listen for the removal of the full notebook cells\n",
       "var notebookContainer = gd.closest('#notebook-container');\n",
       "if (notebookContainer) {{\n",
       "    x.observe(notebookContainer, {childList: true});\n",
       "}}\n",
       "\n",
       "// Listen for the clearing of the current output cell\n",
       "var outputEl = gd.closest('.output');\n",
       "if (outputEl) {{\n",
       "    x.observe(outputEl, {childList: true});\n",
       "}}\n",
       "\n",
       "                        })                };                });            </script>        </div>"
      ]
     },
     "metadata": {},
     "output_type": "display_data"
    }
   ],
   "source": [
    "fig = px.sunburst(data,path=['Genre','Year', ],values='Reviews') #path로 다중 속성 입력, 원 그래프 크기 values 속성으로 저장, reviews가 얼마나 되는지 확인하기\n",
    "fig.update_layout(title='Sunburst Graph')\n",
    "fig.show()"
   ]
  },
  {
   "cell_type": "code",
   "execution_count": null,
   "metadata": {},
   "outputs": [],
   "source": []
  }
 ],
 "metadata": {
  "kernelspec": {
   "display_name": "Python 3",
   "language": "python",
   "name": "python3"
  },
  "language_info": {
   "codemirror_mode": {
    "name": "ipython",
    "version": 3
   },
   "file_extension": ".py",
   "mimetype": "text/x-python",
   "name": "python",
   "nbconvert_exporter": "python",
   "pygments_lexer": "ipython3",
   "version": "3.7.1"
  }
 },
 "nbformat": 4,
 "nbformat_minor": 2
}
